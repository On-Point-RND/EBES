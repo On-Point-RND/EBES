{
 "cells": [
  {
   "cell_type": "code",
   "execution_count": 1,
   "id": "8516672b",
   "metadata": {},
   "outputs": [],
   "source": [
    "import sys\n",
    "sys.path.append(\"/workspace/es-bench/preprocess\")"
   ]
  },
  {
   "cell_type": "code",
   "execution_count": 39,
   "id": "9ecb8d78",
   "metadata": {},
   "outputs": [],
   "source": [
    "from argparse import ArgumentParser\n",
    "from pathlib import Path\n",
    "import re\n",
    "\n",
    "import pyspark.sql.functions as F\n",
    "from pyspark.sql import SparkSession\n",
    "from pyspark.sql.types import LongType, FloatType, TimestampType, StringType, StructField, StructType, ArrayType\n",
    "from pyspark.ml.feature import Bucketizer\n",
    "from pyspark.sql import Window\n",
    "\n",
    "from common import cat_freq, collect_lists, train_test_split\n",
    "\n",
    "import pandas as pd\n",
    "import numpy as np\n",
    "from tqdm.auto import tqdm\n",
    "import matplotlib.pyplot as plt\n",
    "import seaborn as sns\n",
    "\n",
    "sns.set()"
   ]
  },
  {
   "cell_type": "code",
   "execution_count": 6,
   "id": "6b99184d",
   "metadata": {},
   "outputs": [],
   "source": [
    "DATA_PATH = Path(\"../../data/mimic-3/files/mimiciii/1.4/\")\n",
    "FIGS_PATH = Path(\"figures/mimic-iii/\")"
   ]
  },
  {
   "cell_type": "markdown",
   "id": "e4fa5cb5",
   "metadata": {},
   "source": [
    "# Prepare data"
   ]
  },
  {
   "cell_type": "code",
   "execution_count": 4,
   "id": "7dcf57d0",
   "metadata": {},
   "outputs": [
    {
     "name": "stderr",
     "output_type": "stream",
     "text": [
      "Picked up _JAVA_OPTIONS: -Xmx32g\n",
      "Picked up _JAVA_OPTIONS: -Xmx32g\n",
      "Setting default log level to \"WARN\".\n",
      "To adjust logging level use sc.setLogLevel(newLevel). For SparkR, use setLogLevel(newLevel).\n",
      "24/05/22 06:25:26 WARN NativeCodeLoader: Unable to load native-hadoop library for your platform... using builtin-java classes where applicable\n"
     ]
    }
   ],
   "source": [
    "spark = SparkSession.builder.master(\"local[32]\").getOrCreate()"
   ]
  },
  {
   "cell_type": "markdown",
   "id": "e6357803",
   "metadata": {},
   "source": [
    "## Target"
   ]
  },
  {
   "cell_type": "code",
   "execution_count": 7,
   "id": "bbe68a7d",
   "metadata": {},
   "outputs": [
    {
     "name": "stdout",
     "output_type": "stream",
     "text": [
      "+-------+------------------+--------------------+\n",
      "|hadm_id|    length_of_stay|hospital_expire_flag|\n",
      "+-------+------------------+--------------------+\n",
      "| 165315|27.466666666666665|                   0|\n",
      "| 152223|131.91666666666666|                   0|\n",
      "| 124321|162.43333333333334|                   0|\n",
      "| 161859| 68.56666666666666|                   0|\n",
      "| 129635| 84.81666666666666|                   0|\n",
      "| 197661|167.73333333333332|                   0|\n",
      "| 134931| 64.48333333333333|                   0|\n",
      "| 162569|            128.75|                   0|\n",
      "| 104557|120.33333333333333|                   0|\n",
      "| 128652|            183.55|                   1|\n",
      "| 175413|            460.75|                   0|\n",
      "| 176176| 85.58333333333333|                   0|\n",
      "| 115799|47.233333333333334|                   0|\n",
      "| 144319|             62.95|                   0|\n",
      "| 166707|            244.25|                   0|\n",
      "| 182104|            198.75|                   0|\n",
      "| 122659|305.68333333333334|                   0|\n",
      "| 165660|241.76666666666668|                   0|\n",
      "| 188670|             122.1|                   0|\n",
      "| 185910| 611.0333333333333|                   0|\n",
      "+-------+------------------+--------------------+\n",
      "only showing top 20 rows\n",
      "\n"
     ]
    }
   ],
   "source": [
    "df_adm = spark.read.csv((DATA_PATH / \"ADMISSIONS.csv.gz\").as_posix(), header=True).select(\n",
    "    F.col(\"HADM_ID\").cast(LongType()).alias(\"hadm_id\"),\n",
    "    (\n",
    "        (\n",
    "            F.col(\"DISCHTIME\").cast(TimestampType()) \n",
    "            - F.col(\"ADMITTIME\").cast(TimestampType())\n",
    "        ).cast(LongType())\n",
    "        / 3600\n",
    "    ).alias(\"length_of_stay\"),\n",
    "    F.col(\"HOSPITAL_EXPIRE_FLAG\").cast(LongType()).alias(\"hospital_expire_flag\")\n",
    ")\n",
    "df_adm.show()"
   ]
  },
  {
   "cell_type": "markdown",
   "id": "35e84b58",
   "metadata": {},
   "source": [
    "## Common features"
   ]
  },
  {
   "cell_type": "code",
   "execution_count": 18,
   "id": "06dc3c2c",
   "metadata": {},
   "outputs": [],
   "source": [
    "# from https://github.com/mlds-lab/interp-net/blob/master/src/mimic_data_extraction.py\n",
    "\n",
    "itemid_feats = \"\"\"\n",
    "SpO2 - 646, 220277\n",
    "HR - 211, 220045\n",
    "RR - 618, 615, 220210, 224690\n",
    "SBP - 51,442,455,6701,220179,220050\n",
    "DBP - 8368,8440,8441,8555,220180,220051\n",
    "Temp(F) - 223761,678\n",
    "Temp(C) - 223762,676\n",
    "TGCS - 198, 226755, 227013\n",
    "CRR - 3348, 115, 223951, 8377, 224308\n",
    "Urine Output - 40405, 40428, 41857, 42001, 42362, 42676, 43171, 43173, 42042, 42068, 42111, 42119, 40715, 40056, 40061, 40085, 40094, 40096, 43897, 43931, 43966, 44080, 44103, 44132, 44237, 43348, 43355, 43365, 43372, 43373, 43374, 43379, 43380, 43431, 43462, 43522, 44706, 44911, 44925, 42810, 42859, 43093, 44325, 44506, 43856, 45304, 46532, 46578, 46658, 46748, 40651, 40055, 40057, 40065, 40069, 44752, 44824, 44837, 43576, 43589, 43633, 43811, 43812, 46177, 46727, 46804, 43987, 44051, 44253, 44278, 46180, 45804, 45841, 45927, 42592, 42666, 42765, 42892, 43053, 43057, 42130, 41922, 40473, 43333, 43347, 44684, 44834, 43638, 43654, 43519, 43537, 42366, 45991, 43583, 43647, 45415, 227519\n",
    "FiO2 - 2981, 3420, 3422, 223835\n",
    "Glucose - 807,811,1529,3745,3744,225664,220621,226537\n",
    "pH - 780, 860, 1126, 1673, 3839, 4202, 4753, 6003, 220274, 220734, 223830, 228243\n",
    "\"\"\""
   ]
  },
  {
   "cell_type": "code",
   "execution_count": 19,
   "id": "a87ac853",
   "metadata": {},
   "outputs": [],
   "source": [
    "data = []\n",
    "for row in itemid_feats.strip().split(\"\\n\"):\n",
    "    feature_name, ids_str = row.split(\" - \")\n",
    "    ids = list(map(int, ids_str.split(\",\")))\n",
    "    data.append([feature_name, ids])"
   ]
  },
  {
   "cell_type": "code",
   "execution_count": 20,
   "id": "432ed541",
   "metadata": {},
   "outputs": [
    {
     "data": {
      "text/html": [
       "<div>\n",
       "<style scoped>\n",
       "    .dataframe tbody tr th:only-of-type {\n",
       "        vertical-align: middle;\n",
       "    }\n",
       "\n",
       "    .dataframe tbody tr th {\n",
       "        vertical-align: top;\n",
       "    }\n",
       "\n",
       "    .dataframe thead th {\n",
       "        text-align: right;\n",
       "    }\n",
       "</style>\n",
       "<table border=\"1\" class=\"dataframe\">\n",
       "  <thead>\n",
       "    <tr style=\"text-align: right;\">\n",
       "      <th></th>\n",
       "      <th>feature_name</th>\n",
       "      <th>itemid</th>\n",
       "    </tr>\n",
       "  </thead>\n",
       "  <tbody>\n",
       "    <tr>\n",
       "      <th>0</th>\n",
       "      <td>SpO2</td>\n",
       "      <td>646</td>\n",
       "    </tr>\n",
       "    <tr>\n",
       "      <th>1</th>\n",
       "      <td>SpO2</td>\n",
       "      <td>220277</td>\n",
       "    </tr>\n",
       "    <tr>\n",
       "      <th>2</th>\n",
       "      <td>HR</td>\n",
       "      <td>211</td>\n",
       "    </tr>\n",
       "    <tr>\n",
       "      <th>3</th>\n",
       "      <td>HR</td>\n",
       "      <td>220045</td>\n",
       "    </tr>\n",
       "    <tr>\n",
       "      <th>4</th>\n",
       "      <td>RR</td>\n",
       "      <td>618</td>\n",
       "    </tr>\n",
       "    <tr>\n",
       "      <th>...</th>\n",
       "      <td>...</td>\n",
       "      <td>...</td>\n",
       "    </tr>\n",
       "    <tr>\n",
       "      <th>148</th>\n",
       "      <td>pH</td>\n",
       "      <td>6003</td>\n",
       "    </tr>\n",
       "    <tr>\n",
       "      <th>149</th>\n",
       "      <td>pH</td>\n",
       "      <td>220274</td>\n",
       "    </tr>\n",
       "    <tr>\n",
       "      <th>150</th>\n",
       "      <td>pH</td>\n",
       "      <td>220734</td>\n",
       "    </tr>\n",
       "    <tr>\n",
       "      <th>151</th>\n",
       "      <td>pH</td>\n",
       "      <td>223830</td>\n",
       "    </tr>\n",
       "    <tr>\n",
       "      <th>152</th>\n",
       "      <td>pH</td>\n",
       "      <td>228243</td>\n",
       "    </tr>\n",
       "  </tbody>\n",
       "</table>\n",
       "<p>153 rows × 2 columns</p>\n",
       "</div>"
      ],
      "text/plain": [
       "    feature_name  itemid\n",
       "0           SpO2     646\n",
       "1           SpO2  220277\n",
       "2             HR     211\n",
       "3             HR  220045\n",
       "4             RR     618\n",
       "..           ...     ...\n",
       "148           pH    6003\n",
       "149           pH  220274\n",
       "150           pH  220734\n",
       "151           pH  223830\n",
       "152           pH  228243\n",
       "\n",
       "[153 rows x 2 columns]"
      ]
     },
     "execution_count": 20,
     "metadata": {},
     "output_type": "execute_result"
    }
   ],
   "source": [
    "pdf_features = (\n",
    "    pd.DataFrame(columns=[\"feature_name\", \"itemid\"], data=data)\n",
    "    .explode(\"itemid\", ignore_index=True)\n",
    ")\n",
    "pdf_features"
   ]
  },
  {
   "cell_type": "code",
   "execution_count": 21,
   "id": "c7f105c1",
   "metadata": {},
   "outputs": [
    {
     "name": "stdout",
     "output_type": "stream",
     "text": [
      "root\n",
      " |-- feature_name: string (nullable = true)\n",
      " |-- itemid: long (nullable = true)\n",
      "\n"
     ]
    },
    {
     "name": "stderr",
     "output_type": "stream",
     "text": [
      "                                                                                \r"
     ]
    },
    {
     "name": "stdout",
     "output_type": "stream",
     "text": [
      "+------------+------+\n",
      "|feature_name|itemid|\n",
      "+------------+------+\n",
      "|        SpO2|   646|\n",
      "|        SpO2|220277|\n",
      "|          HR|   211|\n",
      "|          HR|220045|\n",
      "|          RR|   618|\n",
      "|          RR|   615|\n",
      "|          RR|220210|\n",
      "|          RR|224690|\n",
      "|         SBP|    51|\n",
      "|         SBP|   442|\n",
      "|         SBP|   455|\n",
      "|         SBP|  6701|\n",
      "|         SBP|220179|\n",
      "|         SBP|220050|\n",
      "|         DBP|  8368|\n",
      "|         DBP|  8440|\n",
      "|         DBP|  8441|\n",
      "|         DBP|  8555|\n",
      "|         DBP|220180|\n",
      "|         DBP|220051|\n",
      "+------------+------+\n",
      "only showing top 20 rows\n",
      "\n"
     ]
    }
   ],
   "source": [
    "df_features = spark.createDataFrame(pdf_features)\n",
    "df_features.printSchema()\n",
    "df_features.show()"
   ]
  },
  {
   "cell_type": "code",
   "execution_count": 22,
   "id": "8faee826",
   "metadata": {},
   "outputs": [
    {
     "data": {
      "text/plain": [
       "['SpO2',\n",
       " 'HR',\n",
       " 'RR',\n",
       " 'SBP',\n",
       " 'DBP',\n",
       " 'Temp(F)',\n",
       " 'Temp(C)',\n",
       " 'TGCS',\n",
       " 'CRR',\n",
       " 'Urine Output',\n",
       " 'FiO2',\n",
       " 'Glucose',\n",
       " 'pH']"
      ]
     },
     "execution_count": 22,
     "metadata": {},
     "output_type": "execute_result"
    }
   ],
   "source": [
    "feature_names = pdf_features.feature_name.unique().tolist()\n",
    "feature_names"
   ]
  },
  {
   "cell_type": "markdown",
   "id": "3198a56f",
   "metadata": {},
   "source": [
    "## Filter the features"
   ]
  },
  {
   "cell_type": "code",
   "execution_count": 24,
   "id": "ae107433",
   "metadata": {},
   "outputs": [
    {
     "name": "stdout",
     "output_type": "stream",
     "text": [
      "+-------+-------------------+------+-----+\n",
      "|hadm_id|          charttime|itemid|value|\n",
      "+-------+-------------------+------+-----+\n",
      "| 165660|2134-05-12 12:00:00|223834|   15|\n",
      "| 165660|2134-05-12 12:00:00|223835|  100|\n",
      "| 165660|2134-05-12 12:00:00|224328|  .37|\n",
      "| 165660|2134-05-12 12:00:00|224329|    6|\n",
      "| 165660|2134-05-12 12:00:00|224330|  2.5|\n",
      "| 165660|2134-05-12 12:00:00|224331|    0|\n",
      "| 165660|2134-05-12 12:00:00|224332|    3|\n",
      "| 165660|2134-05-12 12:00:00|224663|    8|\n",
      "| 165660|2134-05-12 12:00:00|224665| 1.11|\n",
      "| 165660|2134-05-12 12:35:00|220224|   58|\n",
      "| 165660|2134-05-12 12:35:00|220235|   60|\n",
      "| 165660|2134-05-12 12:35:00|223830| 7.29|\n",
      "| 165660|2134-05-12 12:35:00|224828|    0|\n",
      "| 165660|2134-05-12 12:35:00|225668|    1|\n",
      "| 165660|2134-05-12 12:35:00|225698|   30|\n",
      "| 165660|2134-05-12 13:00:00|220045|   86|\n",
      "| 165660|2134-05-12 13:00:00|220179|  137|\n",
      "| 165660|2134-05-12 13:00:00|220180|   72|\n",
      "| 165660|2134-05-12 13:00:00|220181|   84|\n",
      "| 165660|2134-05-12 13:00:00|220210|   21|\n",
      "+-------+-------------------+------+-----+\n",
      "only showing top 20 rows\n",
      "\n"
     ]
    }
   ],
   "source": [
    "df_values = spark.read.csv((DATA_PATH / \"CHARTEVENTS.csv.gz\").as_posix(), header=True).select(\n",
    "    F.col(\"HADM_ID\").cast(LongType()).alias(\"hadm_id\"),\n",
    "    F.col(\"CHARTTIME\").cast(TimestampType()).alias(\"charttime\"),\n",
    "    F.col(\"ITEMID\").cast(LongType()).alias(\"itemid\"),\n",
    "    F.col(\"VALUE\").alias(\"value\"),\n",
    ")\n",
    "df_values.show()"
   ]
  },
  {
   "cell_type": "code",
   "execution_count": 25,
   "id": "b033cab6",
   "metadata": {},
   "outputs": [
    {
     "name": "stdout",
     "output_type": "stream",
     "text": [
      "root\n",
      " |-- hadm_id: long (nullable = true)\n",
      " |-- charttime: timestamp (nullable = true)\n",
      " |-- value: string (nullable = true)\n",
      " |-- feature_name: string (nullable = true)\n",
      "\n"
     ]
    },
    {
     "name": "stderr",
     "output_type": "stream",
     "text": [
      "[Stage 11:=======================================================>(82 + 1) / 83]\r"
     ]
    },
    {
     "name": "stdout",
     "output_type": "stream",
     "text": [
      "+-------+-------------------+-----+------------+\n",
      "|hadm_id|          charttime|value|feature_name|\n",
      "+-------+-------------------+-----+------------+\n",
      "| 141647|2183-08-24 08:00:00|   76|         DBP|\n",
      "| 141647|2183-08-24 09:12:00|   67|         DBP|\n",
      "| 193281|2140-04-13 11:00:00|  124|         DBP|\n",
      "| 172593|2164-03-07 12:00:00|   35|         DBP|\n",
      "| 120589|2162-02-01 16:00:00|   32|         DBP|\n",
      "| 172260|2124-11-15 09:00:00|   46|         DBP|\n",
      "| 172260|2124-11-15 10:00:00|   52|         DBP|\n",
      "| 172260|2124-11-15 11:00:00|   42|         DBP|\n",
      "| 172260|2124-11-15 12:00:00|   48|         DBP|\n",
      "| 172260|2124-11-15 14:15:00|   40|         DBP|\n",
      "| 139824|2168-03-30 07:00:00|   60|         DBP|\n",
      "| 139824|2168-03-30 03:30:00|   60|         DBP|\n",
      "| 127036|2199-10-11 10:45:00|   74|         DBP|\n",
      "| 127036|2199-10-11 11:00:00|   73|         DBP|\n",
      "| 160548|2137-09-30 22:00:00|   56|         DBP|\n",
      "| 186516|2148-12-02 22:00:00|   56|         DBP|\n",
      "| 153771|2166-07-24 23:00:00|   80|         DBP|\n",
      "| 173307|2113-10-26 08:00:00|   70|         DBP|\n",
      "| 173307|2113-10-26 21:00:00|   60|         DBP|\n",
      "| 141591|2200-03-18 12:00:00|   70|         DBP|\n",
      "+-------+-------------------+-----+------------+\n",
      "only showing top 20 rows\n",
      "\n",
      "CPU times: user 192 ms, sys: 57.8 ms, total: 250 ms\n",
      "Wall time: 15min 23s\n"
     ]
    },
    {
     "name": "stderr",
     "output_type": "stream",
     "text": [
      "                                                                                \r"
     ]
    }
   ],
   "source": [
    "%%time\n",
    "\n",
    "df_values = df_values.join(df_features, on=\"itemid\").drop(\"itemid\").cache()\n",
    "df_values.printSchema()\n",
    "df_values.show()"
   ]
  },
  {
   "cell_type": "code",
   "execution_count": 27,
   "id": "e8ad75a0",
   "metadata": {},
   "outputs": [],
   "source": [
    "# df_values.coalesce(1).write.parquet(\"values.parquet\")"
   ]
  },
  {
   "cell_type": "code",
   "execution_count": 28,
   "id": "b12012ba",
   "metadata": {},
   "outputs": [],
   "source": [
    "df_pivoted = (\n",
    "    df_values.groupBy(\"hadm_id\", \"charttime\")\n",
    "    .pivot(\"feature_name\", feature_names)\n",
    "    .agg(F.any_value(\"value\", ignoreNulls=True))\n",
    ")"
   ]
  },
  {
   "cell_type": "code",
   "execution_count": 31,
   "id": "d09258f8",
   "metadata": {},
   "outputs": [
    {
     "name": "stderr",
     "output_type": "stream",
     "text": [
      "                                                                                \r"
     ]
    },
    {
     "name": "stdout",
     "output_type": "stream",
     "text": [
      "CPU times: user 14min 56s, sys: 1min, total: 15min 56s\n",
      "Wall time: 16min 5s\n"
     ]
    },
    {
     "data": {
      "text/html": [
       "<div>\n",
       "<style scoped>\n",
       "    .dataframe tbody tr th:only-of-type {\n",
       "        vertical-align: middle;\n",
       "    }\n",
       "\n",
       "    .dataframe tbody tr th {\n",
       "        vertical-align: top;\n",
       "    }\n",
       "\n",
       "    .dataframe thead th {\n",
       "        text-align: right;\n",
       "    }\n",
       "</style>\n",
       "<table border=\"1\" class=\"dataframe\">\n",
       "  <thead>\n",
       "    <tr style=\"text-align: right;\">\n",
       "      <th></th>\n",
       "      <th>hadm_id</th>\n",
       "      <th>charttime</th>\n",
       "      <th>SpO2</th>\n",
       "      <th>HR</th>\n",
       "      <th>RR</th>\n",
       "      <th>SBP</th>\n",
       "      <th>DBP</th>\n",
       "      <th>Temp(F)</th>\n",
       "      <th>Temp(C)</th>\n",
       "      <th>TGCS</th>\n",
       "      <th>CRR</th>\n",
       "      <th>Urine Output</th>\n",
       "      <th>FiO2</th>\n",
       "      <th>Glucose</th>\n",
       "      <th>pH</th>\n",
       "    </tr>\n",
       "  </thead>\n",
       "  <tbody>\n",
       "    <tr>\n",
       "      <th>0</th>\n",
       "      <td>100001</td>\n",
       "      <td>2117-09-11 18:00:00</td>\n",
       "      <td>98</td>\n",
       "      <td>112</td>\n",
       "      <td>16</td>\n",
       "      <td>170</td>\n",
       "      <td>86</td>\n",
       "      <td>None</td>\n",
       "      <td>None</td>\n",
       "      <td>None</td>\n",
       "      <td>None</td>\n",
       "      <td>None</td>\n",
       "      <td>None</td>\n",
       "      <td>172</td>\n",
       "      <td>None</td>\n",
       "    </tr>\n",
       "    <tr>\n",
       "      <th>1</th>\n",
       "      <td>100001</td>\n",
       "      <td>2117-09-11 20:00:00</td>\n",
       "      <td>97</td>\n",
       "      <td>116</td>\n",
       "      <td>None</td>\n",
       "      <td>183</td>\n",
       "      <td>91</td>\n",
       "      <td>None</td>\n",
       "      <td>None</td>\n",
       "      <td>None</td>\n",
       "      <td>None</td>\n",
       "      <td>None</td>\n",
       "      <td>None</td>\n",
       "      <td>191</td>\n",
       "      <td>None</td>\n",
       "    </tr>\n",
       "    <tr>\n",
       "      <th>2</th>\n",
       "      <td>100001</td>\n",
       "      <td>2117-09-13 05:00:00</td>\n",
       "      <td>None</td>\n",
       "      <td>123</td>\n",
       "      <td>None</td>\n",
       "      <td>None</td>\n",
       "      <td>None</td>\n",
       "      <td>None</td>\n",
       "      <td>None</td>\n",
       "      <td>None</td>\n",
       "      <td>None</td>\n",
       "      <td>None</td>\n",
       "      <td>None</td>\n",
       "      <td>None</td>\n",
       "      <td>None</td>\n",
       "    </tr>\n",
       "    <tr>\n",
       "      <th>3</th>\n",
       "      <td>100001</td>\n",
       "      <td>2117-09-14 00:00:00</td>\n",
       "      <td>None</td>\n",
       "      <td>111</td>\n",
       "      <td>None</td>\n",
       "      <td>None</td>\n",
       "      <td>None</td>\n",
       "      <td>99.4</td>\n",
       "      <td>None</td>\n",
       "      <td>None</td>\n",
       "      <td>None</td>\n",
       "      <td>None</td>\n",
       "      <td>None</td>\n",
       "      <td>172</td>\n",
       "      <td>None</td>\n",
       "    </tr>\n",
       "    <tr>\n",
       "      <th>4</th>\n",
       "      <td>100001</td>\n",
       "      <td>2117-09-15 01:00:00</td>\n",
       "      <td>None</td>\n",
       "      <td>107</td>\n",
       "      <td>None</td>\n",
       "      <td>140</td>\n",
       "      <td>85</td>\n",
       "      <td>None</td>\n",
       "      <td>None</td>\n",
       "      <td>None</td>\n",
       "      <td>None</td>\n",
       "      <td>None</td>\n",
       "      <td>None</td>\n",
       "      <td>None</td>\n",
       "      <td>None</td>\n",
       "    </tr>\n",
       "    <tr>\n",
       "      <th>...</th>\n",
       "      <td>...</td>\n",
       "      <td>...</td>\n",
       "      <td>...</td>\n",
       "      <td>...</td>\n",
       "      <td>...</td>\n",
       "      <td>...</td>\n",
       "      <td>...</td>\n",
       "      <td>...</td>\n",
       "      <td>...</td>\n",
       "      <td>...</td>\n",
       "      <td>...</td>\n",
       "      <td>...</td>\n",
       "      <td>...</td>\n",
       "      <td>...</td>\n",
       "      <td>...</td>\n",
       "    </tr>\n",
       "    <tr>\n",
       "      <th>9575556</th>\n",
       "      <td>199994</td>\n",
       "      <td>2188-07-10 09:00:00</td>\n",
       "      <td>98</td>\n",
       "      <td>65</td>\n",
       "      <td>10</td>\n",
       "      <td>97</td>\n",
       "      <td>48</td>\n",
       "      <td>None</td>\n",
       "      <td>None</td>\n",
       "      <td>None</td>\n",
       "      <td>None</td>\n",
       "      <td>None</td>\n",
       "      <td>None</td>\n",
       "      <td>None</td>\n",
       "      <td>None</td>\n",
       "    </tr>\n",
       "    <tr>\n",
       "      <th>9575557</th>\n",
       "      <td>199994</td>\n",
       "      <td>2188-07-11 09:00:00</td>\n",
       "      <td>95</td>\n",
       "      <td>72</td>\n",
       "      <td>None</td>\n",
       "      <td>96</td>\n",
       "      <td>48</td>\n",
       "      <td>None</td>\n",
       "      <td>None</td>\n",
       "      <td>None</td>\n",
       "      <td>None</td>\n",
       "      <td>None</td>\n",
       "      <td>None</td>\n",
       "      <td>None</td>\n",
       "      <td>None</td>\n",
       "    </tr>\n",
       "    <tr>\n",
       "      <th>9575558</th>\n",
       "      <td>199994</td>\n",
       "      <td>2188-07-12 12:54:00</td>\n",
       "      <td>None</td>\n",
       "      <td>None</td>\n",
       "      <td>None</td>\n",
       "      <td>None</td>\n",
       "      <td>None</td>\n",
       "      <td>None</td>\n",
       "      <td>None</td>\n",
       "      <td>None</td>\n",
       "      <td>None</td>\n",
       "      <td>None</td>\n",
       "      <td>None</td>\n",
       "      <td>None</td>\n",
       "      <td>7.25</td>\n",
       "    </tr>\n",
       "    <tr>\n",
       "      <th>9575559</th>\n",
       "      <td>199995</td>\n",
       "      <td>2137-12-21 19:00:00</td>\n",
       "      <td>96</td>\n",
       "      <td>112</td>\n",
       "      <td>20</td>\n",
       "      <td>119</td>\n",
       "      <td>68</td>\n",
       "      <td>None</td>\n",
       "      <td>None</td>\n",
       "      <td>None</td>\n",
       "      <td>None</td>\n",
       "      <td>None</td>\n",
       "      <td>None</td>\n",
       "      <td>156</td>\n",
       "      <td>None</td>\n",
       "    </tr>\n",
       "    <tr>\n",
       "      <th>9575560</th>\n",
       "      <td>199995</td>\n",
       "      <td>2137-12-22 06:45:00</td>\n",
       "      <td>97</td>\n",
       "      <td>107</td>\n",
       "      <td>20</td>\n",
       "      <td>129</td>\n",
       "      <td>66</td>\n",
       "      <td>99.099998474121094</td>\n",
       "      <td>None</td>\n",
       "      <td>None</td>\n",
       "      <td>None</td>\n",
       "      <td>None</td>\n",
       "      <td>None</td>\n",
       "      <td>None</td>\n",
       "      <td>None</td>\n",
       "    </tr>\n",
       "  </tbody>\n",
       "</table>\n",
       "<p>9575561 rows × 15 columns</p>\n",
       "</div>"
      ],
      "text/plain": [
       "         hadm_id           charttime  SpO2    HR    RR   SBP   DBP  \\\n",
       "0         100001 2117-09-11 18:00:00    98   112    16   170    86   \n",
       "1         100001 2117-09-11 20:00:00    97   116  None   183    91   \n",
       "2         100001 2117-09-13 05:00:00  None   123  None  None  None   \n",
       "3         100001 2117-09-14 00:00:00  None   111  None  None  None   \n",
       "4         100001 2117-09-15 01:00:00  None   107  None   140    85   \n",
       "...          ...                 ...   ...   ...   ...   ...   ...   \n",
       "9575556   199994 2188-07-10 09:00:00    98    65    10    97    48   \n",
       "9575557   199994 2188-07-11 09:00:00    95    72  None    96    48   \n",
       "9575558   199994 2188-07-12 12:54:00  None  None  None  None  None   \n",
       "9575559   199995 2137-12-21 19:00:00    96   112    20   119    68   \n",
       "9575560   199995 2137-12-22 06:45:00    97   107    20   129    66   \n",
       "\n",
       "                    Temp(F) Temp(C)  TGCS   CRR Urine Output  FiO2 Glucose  \\\n",
       "0                      None    None  None  None         None  None     172   \n",
       "1                      None    None  None  None         None  None     191   \n",
       "2                      None    None  None  None         None  None    None   \n",
       "3                      99.4    None  None  None         None  None     172   \n",
       "4                      None    None  None  None         None  None    None   \n",
       "...                     ...     ...   ...   ...          ...   ...     ...   \n",
       "9575556                None    None  None  None         None  None    None   \n",
       "9575557                None    None  None  None         None  None    None   \n",
       "9575558                None    None  None  None         None  None    None   \n",
       "9575559                None    None  None  None         None  None     156   \n",
       "9575560  99.099998474121094    None  None  None         None  None    None   \n",
       "\n",
       "           pH  \n",
       "0        None  \n",
       "1        None  \n",
       "2        None  \n",
       "3        None  \n",
       "4        None  \n",
       "...       ...  \n",
       "9575556  None  \n",
       "9575557  None  \n",
       "9575558  7.25  \n",
       "9575559  None  \n",
       "9575560  None  \n",
       "\n",
       "[9575561 rows x 15 columns]"
      ]
     },
     "execution_count": 31,
     "metadata": {},
     "output_type": "execute_result"
    }
   ],
   "source": [
    "%%time\n",
    "pdf = df_pivoted.toPandas()\n",
    "pdf"
   ]
  },
  {
   "cell_type": "code",
   "execution_count": 34,
   "id": "0025ce1d",
   "metadata": {},
   "outputs": [],
   "source": [
    "# pdf.to_parquet(\"pdf_values.parquet\")"
   ]
  },
  {
   "cell_type": "markdown",
   "id": "ee8b820b",
   "metadata": {},
   "source": [
    "# Analysis"
   ]
  },
  {
   "cell_type": "code",
   "execution_count": 35,
   "id": "eb2b6ada",
   "metadata": {},
   "outputs": [
    {
     "data": {
      "text/plain": [
       "['SpO2',\n",
       " 'HR',\n",
       " 'RR',\n",
       " 'SBP',\n",
       " 'DBP',\n",
       " 'Temp(F)',\n",
       " 'Temp(C)',\n",
       " 'TGCS',\n",
       " 'CRR',\n",
       " 'Urine Output',\n",
       " 'FiO2',\n",
       " 'Glucose',\n",
       " 'pH']"
      ]
     },
     "execution_count": 35,
     "metadata": {},
     "output_type": "execute_result"
    }
   ],
   "source": [
    "feature_names"
   ]
  },
  {
   "cell_type": "markdown",
   "id": "afd7716f",
   "metadata": {},
   "source": [
    "## SpO2 "
   ]
  },
  {
   "cell_type": "markdown",
   "id": "56bfdcdb",
   "metadata": {},
   "source": [
    "Blood saturation. Should be close to 100."
   ]
  },
  {
   "cell_type": "code",
   "execution_count": 56,
   "id": "e13b7986",
   "metadata": {},
   "outputs": [
    {
     "data": {
      "text/plain": [
       "0          98.0\n",
       "1          97.0\n",
       "2           NaN\n",
       "3           NaN\n",
       "4           NaN\n",
       "           ... \n",
       "9575556    98.0\n",
       "9575557    95.0\n",
       "9575558     NaN\n",
       "9575559    96.0\n",
       "9575560    97.0\n",
       "Name: SpO2, Length: 9575561, dtype: float64"
      ]
     },
     "execution_count": 56,
     "metadata": {},
     "output_type": "execute_result"
    }
   ],
   "source": [
    "vals = pdf[\"SpO2\"].astype(float)\n",
    "vals"
   ]
  },
  {
   "cell_type": "code",
   "execution_count": 42,
   "id": "82c0849a",
   "metadata": {},
   "outputs": [
    {
     "data": {
      "text/plain": [
       "0.6342585045408827"
      ]
     },
     "execution_count": 42,
     "metadata": {},
     "output_type": "execute_result"
    }
   ],
   "source": [
    "vals.count() / len(vals)"
   ]
  },
  {
   "cell_type": "code",
   "execution_count": 45,
   "id": "78587f13",
   "metadata": {},
   "outputs": [
    {
     "data": {
      "text/plain": [
       "count    6.073381e+06\n",
       "mean     9.885929e+01\n",
       "std      2.941947e+03\n",
       "min      0.000000e+00\n",
       "25%      9.600000e+01\n",
       "50%      9.800000e+01\n",
       "75%      9.900000e+01\n",
       "max      6.363333e+06\n",
       "Name: SpO2, dtype: float64"
      ]
     },
     "execution_count": 45,
     "metadata": {},
     "output_type": "execute_result"
    }
   ],
   "source": [
    "vals.describe()"
   ]
  },
  {
   "cell_type": "code",
   "execution_count": 52,
   "id": "7e52187d",
   "metadata": {},
   "outputs": [
    {
     "data": {
      "text/plain": [
       "array([  2.,  59.,  87.,  94., 100., 100., 100., 100.])"
      ]
     },
     "execution_count": 52,
     "metadata": {},
     "output_type": "execute_result"
    }
   ],
   "source": [
    "np.quantile(vals.dropna(), [0.0001, 0.001, 0.01, 0.1, 0.9, 0.99, 0.999, 0.9999])"
   ]
  },
  {
   "cell_type": "markdown",
   "id": "29ca0368",
   "metadata": {},
   "source": [
    "## HR"
   ]
  },
  {
   "cell_type": "markdown",
   "id": "5540f320",
   "metadata": {},
   "source": [
    "Heart rate. Maximal heart rate is approzimately 220 - age in years."
   ]
  },
  {
   "cell_type": "code",
   "execution_count": 58,
   "id": "d9404a18",
   "metadata": {},
   "outputs": [
    {
     "data": {
      "text/plain": [
       "0          112.0\n",
       "1          116.0\n",
       "2          123.0\n",
       "3          111.0\n",
       "4          107.0\n",
       "           ...  \n",
       "9575556     65.0\n",
       "9575557     72.0\n",
       "9575558      NaN\n",
       "9575559    112.0\n",
       "9575560    107.0\n",
       "Name: HR, Length: 9575561, dtype: float64"
      ]
     },
     "execution_count": 58,
     "metadata": {},
     "output_type": "execute_result"
    }
   ],
   "source": [
    "vals = pdf[\"HR\"].astype(float)\n",
    "vals"
   ]
  },
  {
   "cell_type": "code",
   "execution_count": 61,
   "id": "643e42d1",
   "metadata": {},
   "outputs": [
    {
     "data": {
      "text/plain": [
       "0.8274759045449138"
      ]
     },
     "execution_count": 61,
     "metadata": {},
     "output_type": "execute_result"
    }
   ],
   "source": [
    "vals.count() / len(vals)"
   ]
  },
  {
   "cell_type": "code",
   "execution_count": 62,
   "id": "8ba0a1ad",
   "metadata": {},
   "outputs": [
    {
     "data": {
      "text/plain": [
       "array([  0.,  38.,  52.,  67., 157., 178., 190., 203.])"
      ]
     },
     "execution_count": 62,
     "metadata": {},
     "output_type": "execute_result"
    }
   ],
   "source": [
    "np.quantile(vals.dropna(), [0.0001, 0.001, 0.01, 0.1, 0.9, 0.99, 0.999, 0.9999])"
   ]
  },
  {
   "cell_type": "markdown",
   "id": "d3aa34f3",
   "metadata": {},
   "source": [
    "## RR"
   ]
  },
  {
   "cell_type": "markdown",
   "id": "7ea2eb9a",
   "metadata": {},
   "source": [
    "Respiratory rate. Rate at which breathing occurs. 12 - 15 is normal."
   ]
  },
  {
   "cell_type": "code",
   "execution_count": 66,
   "id": "f7e32091",
   "metadata": {},
   "outputs": [
    {
     "data": {
      "text/plain": [
       "0            16\n",
       "1          None\n",
       "2          None\n",
       "3          None\n",
       "4          None\n",
       "           ... \n",
       "9575556      10\n",
       "9575557    None\n",
       "9575558    None\n",
       "9575559      20\n",
       "9575560      20\n",
       "Name: RR, Length: 9575561, dtype: object"
      ]
     },
     "execution_count": 66,
     "metadata": {},
     "output_type": "execute_result"
    }
   ],
   "source": [
    "vals = pdf[\"RR\"]\n",
    "vals"
   ]
  },
  {
   "cell_type": "code",
   "execution_count": 70,
   "id": "bc487171",
   "metadata": {},
   "outputs": [
    {
     "data": {
      "text/plain": [
       "5.430491226571477e-05"
      ]
     },
     "execution_count": 70,
     "metadata": {},
     "output_type": "execute_result"
    }
   ],
   "source": [
    "(vals.str.isnumeric() == False).sum() / len(vals)"
   ]
  },
  {
   "cell_type": "code",
   "execution_count": 71,
   "id": "8c9e5145",
   "metadata": {},
   "outputs": [
    {
     "data": {
      "text/plain": [
       "0          16.0\n",
       "1           NaN\n",
       "2           NaN\n",
       "3           NaN\n",
       "4           NaN\n",
       "           ... \n",
       "9575556    10.0\n",
       "9575557     NaN\n",
       "9575558     NaN\n",
       "9575559    20.0\n",
       "9575560    20.0\n",
       "Name: RR, Length: 9575561, dtype: float64"
      ]
     },
     "execution_count": 71,
     "metadata": {},
     "output_type": "execute_result"
    }
   ],
   "source": [
    "vals = vals.where(vals.str.isnumeric() != False, other=None).astype(float)\n",
    "vals"
   ]
  },
  {
   "cell_type": "code",
   "execution_count": 72,
   "id": "c63b3ff4",
   "metadata": {},
   "outputs": [
    {
     "data": {
      "text/plain": [
       "0.6568550918322175"
      ]
     },
     "execution_count": 72,
     "metadata": {},
     "output_type": "execute_result"
    }
   ],
   "source": [
    "vals.count() / len(vals)"
   ]
  },
  {
   "cell_type": "code",
   "execution_count": 74,
   "id": "a32def32",
   "metadata": {},
   "outputs": [
    {
     "data": {
      "text/plain": [
       "array([ 0.,  0.,  7., 13., 28., 37., 48., 70.])"
      ]
     },
     "execution_count": 74,
     "metadata": {},
     "output_type": "execute_result"
    }
   ],
   "source": [
    "np.quantile(vals.dropna(), [0.0001, 0.001, 0.01, 0.1, 0.9, 0.99, 0.999, 0.9999])"
   ]
  },
  {
   "cell_type": "markdown",
   "id": "8ba944c0",
   "metadata": {},
   "source": [
    "## SBP and DBP"
   ]
  },
  {
   "cell_type": "markdown",
   "id": "b7e94c4f",
   "metadata": {},
   "source": [
    "Blood pressure is usually expressed in terms of the systolic pressure (maximum pressure during one heartbeat) over diastolic pressure (minimum pressure between two heartbeats) in the cardiac cycle."
   ]
  },
  {
   "cell_type": "code",
   "execution_count": 77,
   "id": "b1bf74c0",
   "metadata": {},
   "outputs": [],
   "source": [
    "sbp = pdf[\"SBP\"].astype(float)\n",
    "dbp = pdf[\"DBP\"].astype(float)"
   ]
  },
  {
   "cell_type": "code",
   "execution_count": 78,
   "id": "55b15997",
   "metadata": {},
   "outputs": [
    {
     "name": "stdout",
     "output_type": "stream",
     "text": [
      "0.6030635698524609\n",
      "0.6028833193167481\n"
     ]
    }
   ],
   "source": [
    "print(sbp.count() / len(sbp))\n",
    "print(dbp.count() / len(dbp))"
   ]
  },
  {
   "cell_type": "code",
   "execution_count": 79,
   "id": "9ec4c9ff",
   "metadata": {},
   "outputs": [
    {
     "data": {
      "text/plain": [
       "3979"
      ]
     },
     "execution_count": 79,
     "metadata": {},
     "output_type": "execute_result"
    }
   ],
   "source": [
    "(sbp < dbp).sum()"
   ]
  },
  {
   "cell_type": "code",
   "execution_count": 80,
   "id": "54b3c7e2",
   "metadata": {},
   "outputs": [
    {
     "data": {
      "text/html": [
       "<div>\n",
       "<style scoped>\n",
       "    .dataframe tbody tr th:only-of-type {\n",
       "        vertical-align: middle;\n",
       "    }\n",
       "\n",
       "    .dataframe tbody tr th {\n",
       "        vertical-align: top;\n",
       "    }\n",
       "\n",
       "    .dataframe thead th {\n",
       "        text-align: right;\n",
       "    }\n",
       "</style>\n",
       "<table border=\"1\" class=\"dataframe\">\n",
       "  <thead>\n",
       "    <tr style=\"text-align: right;\">\n",
       "      <th></th>\n",
       "      <th>s</th>\n",
       "      <th>d</th>\n",
       "    </tr>\n",
       "  </thead>\n",
       "  <tbody>\n",
       "    <tr>\n",
       "      <th>0</th>\n",
       "      <td>170.0</td>\n",
       "      <td>86.0</td>\n",
       "    </tr>\n",
       "    <tr>\n",
       "      <th>1</th>\n",
       "      <td>183.0</td>\n",
       "      <td>91.0</td>\n",
       "    </tr>\n",
       "    <tr>\n",
       "      <th>2</th>\n",
       "      <td>NaN</td>\n",
       "      <td>NaN</td>\n",
       "    </tr>\n",
       "    <tr>\n",
       "      <th>3</th>\n",
       "      <td>NaN</td>\n",
       "      <td>NaN</td>\n",
       "    </tr>\n",
       "    <tr>\n",
       "      <th>4</th>\n",
       "      <td>140.0</td>\n",
       "      <td>85.0</td>\n",
       "    </tr>\n",
       "    <tr>\n",
       "      <th>...</th>\n",
       "      <td>...</td>\n",
       "      <td>...</td>\n",
       "    </tr>\n",
       "    <tr>\n",
       "      <th>9575556</th>\n",
       "      <td>97.0</td>\n",
       "      <td>48.0</td>\n",
       "    </tr>\n",
       "    <tr>\n",
       "      <th>9575557</th>\n",
       "      <td>96.0</td>\n",
       "      <td>48.0</td>\n",
       "    </tr>\n",
       "    <tr>\n",
       "      <th>9575558</th>\n",
       "      <td>NaN</td>\n",
       "      <td>NaN</td>\n",
       "    </tr>\n",
       "    <tr>\n",
       "      <th>9575559</th>\n",
       "      <td>119.0</td>\n",
       "      <td>68.0</td>\n",
       "    </tr>\n",
       "    <tr>\n",
       "      <th>9575560</th>\n",
       "      <td>129.0</td>\n",
       "      <td>66.0</td>\n",
       "    </tr>\n",
       "  </tbody>\n",
       "</table>\n",
       "<p>9575561 rows × 2 columns</p>\n",
       "</div>"
      ],
      "text/plain": [
       "             s     d\n",
       "0        170.0  86.0\n",
       "1        183.0  91.0\n",
       "2          NaN   NaN\n",
       "3          NaN   NaN\n",
       "4        140.0  85.0\n",
       "...        ...   ...\n",
       "9575556   97.0  48.0\n",
       "9575557   96.0  48.0\n",
       "9575558    NaN   NaN\n",
       "9575559  119.0  68.0\n",
       "9575560  129.0  66.0\n",
       "\n",
       "[9575561 rows x 2 columns]"
      ]
     },
     "execution_count": 80,
     "metadata": {},
     "output_type": "execute_result"
    }
   ],
   "source": [
    "bp = pd.DataFrame({\"s\": sbp, \"d\": dbp})\n",
    "bp"
   ]
  },
  {
   "cell_type": "code",
   "execution_count": 81,
   "id": "5824e375",
   "metadata": {},
   "outputs": [
    {
     "data": {
      "text/html": [
       "<div>\n",
       "<style scoped>\n",
       "    .dataframe tbody tr th:only-of-type {\n",
       "        vertical-align: middle;\n",
       "    }\n",
       "\n",
       "    .dataframe tbody tr th {\n",
       "        vertical-align: top;\n",
       "    }\n",
       "\n",
       "    .dataframe thead th {\n",
       "        text-align: right;\n",
       "    }\n",
       "</style>\n",
       "<table border=\"1\" class=\"dataframe\">\n",
       "  <thead>\n",
       "    <tr style=\"text-align: right;\">\n",
       "      <th></th>\n",
       "      <th>s</th>\n",
       "      <th>d</th>\n",
       "    </tr>\n",
       "  </thead>\n",
       "  <tbody>\n",
       "    <tr>\n",
       "      <th>2457</th>\n",
       "      <td>0.0</td>\n",
       "      <td>92.0</td>\n",
       "    </tr>\n",
       "    <tr>\n",
       "      <th>4840</th>\n",
       "      <td>0.0</td>\n",
       "      <td>65.0</td>\n",
       "    </tr>\n",
       "    <tr>\n",
       "      <th>5351</th>\n",
       "      <td>0.0</td>\n",
       "      <td>43.0</td>\n",
       "    </tr>\n",
       "    <tr>\n",
       "      <th>6229</th>\n",
       "      <td>4.0</td>\n",
       "      <td>51.0</td>\n",
       "    </tr>\n",
       "    <tr>\n",
       "      <th>7824</th>\n",
       "      <td>89.0</td>\n",
       "      <td>119.0</td>\n",
       "    </tr>\n",
       "    <tr>\n",
       "      <th>...</th>\n",
       "      <td>...</td>\n",
       "      <td>...</td>\n",
       "    </tr>\n",
       "    <tr>\n",
       "      <th>9567210</th>\n",
       "      <td>117.0</td>\n",
       "      <td>139.0</td>\n",
       "    </tr>\n",
       "    <tr>\n",
       "      <th>9567842</th>\n",
       "      <td>0.0</td>\n",
       "      <td>25.0</td>\n",
       "    </tr>\n",
       "    <tr>\n",
       "      <th>9569568</th>\n",
       "      <td>11.0</td>\n",
       "      <td>54.0</td>\n",
       "    </tr>\n",
       "    <tr>\n",
       "      <th>9573380</th>\n",
       "      <td>126.0</td>\n",
       "      <td>130.0</td>\n",
       "    </tr>\n",
       "    <tr>\n",
       "      <th>9573465</th>\n",
       "      <td>98.0</td>\n",
       "      <td>113.0</td>\n",
       "    </tr>\n",
       "  </tbody>\n",
       "</table>\n",
       "<p>3979 rows × 2 columns</p>\n",
       "</div>"
      ],
      "text/plain": [
       "             s      d\n",
       "2457       0.0   92.0\n",
       "4840       0.0   65.0\n",
       "5351       0.0   43.0\n",
       "6229       4.0   51.0\n",
       "7824      89.0  119.0\n",
       "...        ...    ...\n",
       "9567210  117.0  139.0\n",
       "9567842    0.0   25.0\n",
       "9569568   11.0   54.0\n",
       "9573380  126.0  130.0\n",
       "9573465   98.0  113.0\n",
       "\n",
       "[3979 rows x 2 columns]"
      ]
     },
     "execution_count": 81,
     "metadata": {},
     "output_type": "execute_result"
    }
   ],
   "source": [
    "bp.query(\"s < d\")"
   ]
  },
  {
   "cell_type": "code",
   "execution_count": 85,
   "id": "93f29a5b",
   "metadata": {},
   "outputs": [
    {
     "data": {
      "text/plain": [
       "0.0004155370113563059"
      ]
     },
     "execution_count": 85,
     "metadata": {},
     "output_type": "execute_result"
    }
   ],
   "source": [
    "len(bp.query(\"s < d\")) / len(bp)"
   ]
  },
  {
   "cell_type": "code",
   "execution_count": 83,
   "id": "a8442dce",
   "metadata": {},
   "outputs": [
    {
     "name": "stdout",
     "output_type": "stream",
     "text": [
      "[  0.  29.  74.  94. 153. 184. 210. 243.]\n",
      "[  0.       0.      31.      44.      79.     102.     133.     203.7055]\n"
     ]
    }
   ],
   "source": [
    "print(np.quantile(sbp.dropna(), [0.0001, 0.001, 0.01, 0.1, 0.9, 0.99, 0.999, 0.9999]))\n",
    "print(np.quantile(dbp.dropna(), [0.0001, 0.001, 0.01, 0.1, 0.9, 0.99, 0.999, 0.9999]))"
   ]
  },
  {
   "cell_type": "markdown",
   "id": "579cd64d",
   "metadata": {},
   "source": [
    "## Temp"
   ]
  },
  {
   "cell_type": "code",
   "execution_count": 95,
   "id": "4823f5ea",
   "metadata": {},
   "outputs": [
    {
     "data": {
      "text/html": [
       "<div>\n",
       "<style scoped>\n",
       "    .dataframe tbody tr th:only-of-type {\n",
       "        vertical-align: middle;\n",
       "    }\n",
       "\n",
       "    .dataframe tbody tr th {\n",
       "        vertical-align: top;\n",
       "    }\n",
       "\n",
       "    .dataframe thead th {\n",
       "        text-align: right;\n",
       "    }\n",
       "</style>\n",
       "<table border=\"1\" class=\"dataframe\">\n",
       "  <thead>\n",
       "    <tr style=\"text-align: right;\">\n",
       "      <th></th>\n",
       "      <th>f</th>\n",
       "      <th>c</th>\n",
       "    </tr>\n",
       "  </thead>\n",
       "  <tbody>\n",
       "    <tr>\n",
       "      <th>0</th>\n",
       "      <td>NaN</td>\n",
       "      <td>NaN</td>\n",
       "    </tr>\n",
       "    <tr>\n",
       "      <th>1</th>\n",
       "      <td>NaN</td>\n",
       "      <td>NaN</td>\n",
       "    </tr>\n",
       "    <tr>\n",
       "      <th>2</th>\n",
       "      <td>NaN</td>\n",
       "      <td>NaN</td>\n",
       "    </tr>\n",
       "    <tr>\n",
       "      <th>3</th>\n",
       "      <td>99.400000</td>\n",
       "      <td>NaN</td>\n",
       "    </tr>\n",
       "    <tr>\n",
       "      <th>4</th>\n",
       "      <td>NaN</td>\n",
       "      <td>NaN</td>\n",
       "    </tr>\n",
       "    <tr>\n",
       "      <th>...</th>\n",
       "      <td>...</td>\n",
       "      <td>...</td>\n",
       "    </tr>\n",
       "    <tr>\n",
       "      <th>9575556</th>\n",
       "      <td>NaN</td>\n",
       "      <td>NaN</td>\n",
       "    </tr>\n",
       "    <tr>\n",
       "      <th>9575557</th>\n",
       "      <td>NaN</td>\n",
       "      <td>NaN</td>\n",
       "    </tr>\n",
       "    <tr>\n",
       "      <th>9575558</th>\n",
       "      <td>NaN</td>\n",
       "      <td>NaN</td>\n",
       "    </tr>\n",
       "    <tr>\n",
       "      <th>9575559</th>\n",
       "      <td>NaN</td>\n",
       "      <td>NaN</td>\n",
       "    </tr>\n",
       "    <tr>\n",
       "      <th>9575560</th>\n",
       "      <td>99.099998</td>\n",
       "      <td>NaN</td>\n",
       "    </tr>\n",
       "  </tbody>\n",
       "</table>\n",
       "<p>9575561 rows × 2 columns</p>\n",
       "</div>"
      ],
      "text/plain": [
       "                 f   c\n",
       "0              NaN NaN\n",
       "1              NaN NaN\n",
       "2              NaN NaN\n",
       "3        99.400000 NaN\n",
       "4              NaN NaN\n",
       "...            ...  ..\n",
       "9575556        NaN NaN\n",
       "9575557        NaN NaN\n",
       "9575558        NaN NaN\n",
       "9575559        NaN NaN\n",
       "9575560  99.099998 NaN\n",
       "\n",
       "[9575561 rows x 2 columns]"
      ]
     },
     "execution_count": 95,
     "metadata": {},
     "output_type": "execute_result"
    }
   ],
   "source": [
    "temp = pd.DataFrame({\"f\": pdf[\"Temp(F)\"], \"c\": pdf[\"Temp(C)\"]}).astype(float)\n",
    "temp"
   ]
  },
  {
   "cell_type": "code",
   "execution_count": 96,
   "id": "2691cd89",
   "metadata": {},
   "outputs": [
    {
     "data": {
      "text/plain": [
       "f    0.13475\n",
       "c    0.04642\n",
       "dtype: float64"
      ]
     },
     "execution_count": 96,
     "metadata": {},
     "output_type": "execute_result"
    }
   ],
   "source": [
    "temp.count() / len(pdf)"
   ]
  },
  {
   "cell_type": "code",
   "execution_count": 97,
   "id": "50e02685",
   "metadata": {},
   "outputs": [
    {
     "data": {
      "text/plain": [
       "<Axes: ylabel='Density'>"
      ]
     },
     "execution_count": 97,
     "metadata": {},
     "output_type": "execute_result"
    },
    {
     "data": {
      "image/png": "[encoded data removed]",
      "text/plain": [
       "<Figure size 640x480 with 1 Axes>"
      ]
     },
     "metadata": {},
     "output_type": "display_data"
    }
   ],
   "source": [
    "sns.kdeplot(temp.query(\"f < 200 and c < 200\"))"
   ]
  },
  {
   "cell_type": "code",
   "execution_count": 100,
   "id": "beb20bfd",
   "metadata": {},
   "outputs": [
    {
     "data": {
      "text/plain": [
       "0    7843713\n",
       "1    1728894\n",
       "2       2954\n",
       "Name: count, dtype: int64"
      ]
     },
     "execution_count": 100,
     "metadata": {},
     "output_type": "execute_result"
    }
   ],
   "source": [
    "temp.notna().sum(1).value_counts()"
   ]
  },
  {
   "cell_type": "code",
   "execution_count": 106,
   "id": "27e85d9d",
   "metadata": {},
   "outputs": [
    {
     "data": {
      "text/plain": [
       "[<matplotlib.lines.Line2D at 0x7fa5c47d4ca0>]"
      ]
     },
     "execution_count": 106,
     "metadata": {},
     "output_type": "execute_result"
    },
    {
     "data": {
      "image/png": "[encoded data removed]",
      "text/plain": [
       "<Figure size 640x480 with 1 Axes>"
      ]
     },
     "metadata": {},
     "output_type": "display_data"
    }
   ],
   "source": [
    "_, ax = plt.subplots()\n",
    "sns.scatterplot(temp[temp.notna().sum(1) == 2], x=\"c\", y=\"f\", ax=ax)\n",
    "\n",
    "c = np.linspace(20, 50, 100)\n",
    "f = c * 9 / 5 + 32\n",
    "ax.plot(c, f, c=\"C1\")"
   ]
  },
  {
   "cell_type": "markdown",
   "id": "caafa3be",
   "metadata": {},
   "source": [
    "## TGCS"
   ]
  },
  {
   "cell_type": "markdown",
   "id": "d0aa6e23",
   "metadata": {},
   "source": [
    "Glasgow Coma Scale — between 3 and 15. \n",
    "Treat other as missing.\n",
    "Highly likely missing should be treated as OK (15)."
   ]
  },
  {
   "cell_type": "code",
   "execution_count": 107,
   "id": "f49d73d6",
   "metadata": {},
   "outputs": [
    {
     "data": {
      "text/plain": [
       "0          None\n",
       "1          None\n",
       "2          None\n",
       "3          None\n",
       "4          None\n",
       "           ... \n",
       "9575556    None\n",
       "9575557    None\n",
       "9575558    None\n",
       "9575559    None\n",
       "9575560    None\n",
       "Name: TGCS, Length: 9575561, dtype: object"
      ]
     },
     "execution_count": 107,
     "metadata": {},
     "output_type": "execute_result"
    }
   ],
   "source": [
    "vals = pdf[\"TGCS\"]\n",
    "vals"
   ]
  },
  {
   "cell_type": "code",
   "execution_count": 111,
   "id": "1d04b99c",
   "metadata": {},
   "outputs": [
    {
     "data": {
      "text/plain": [
       "TGCS\n",
       "15    356373\n",
       "11    114225\n",
       "10    101801\n",
       "14     75050\n",
       "3      59935\n",
       "9      57442\n",
       "8      47922\n",
       "7      42996\n",
       "6      35981\n",
       "13     24250\n",
       "12      9956\n",
       "4       8769\n",
       "5       7318\n",
       "0          5\n",
       "48         2\n",
       "29         2\n",
       "1          1\n",
       "2          1\n",
       "24         1\n",
       "Name: count, dtype: int64"
      ]
     },
     "execution_count": 111,
     "metadata": {},
     "output_type": "execute_result"
    }
   ],
   "source": [
    "vals[vals.notna()].value_counts()"
   ]
  },
  {
   "cell_type": "code",
   "execution_count": 113,
   "id": "ddc43e88",
   "metadata": {},
   "outputs": [
    {
     "data": {
      "text/plain": [
       "<Axes: xlabel='TGCS', ylabel='Density'>"
      ]
     },
     "execution_count": 113,
     "metadata": {},
     "output_type": "execute_result"
    },
    {
     "data": {
      "image/png": "[encoded data removed]",
      "text/plain": [
       "<Figure size 640x480 with 1 Axes>"
      ]
     },
     "metadata": {},
     "output_type": "display_data"
    }
   ],
   "source": [
    "sns.kdeplot(vals.astype(float))"
   ]
  },
  {
   "cell_type": "code",
   "execution_count": 196,
   "id": "64ec14fa",
   "metadata": {},
   "outputs": [
    {
     "data": {
      "text/plain": [
       "0          None\n",
       "1          None\n",
       "2          None\n",
       "3          None\n",
       "4          None\n",
       "           ... \n",
       "9575556    None\n",
       "9575557    None\n",
       "9575558    None\n",
       "9575559    None\n",
       "9575560    None\n",
       "Name: CRR, Length: 9575561, dtype: object"
      ]
     },
     "execution_count": 196,
     "metadata": {},
     "output_type": "execute_result"
    }
   ],
   "source": [
    "vals = pdf[\"CRR\"]\n",
    "vals"
   ]
  },
  {
   "cell_type": "code",
   "execution_count": 197,
   "id": "331159e2",
   "metadata": {},
   "outputs": [
    {
     "data": {
      "text/plain": [
       "0.06315452431455452"
      ]
     },
     "execution_count": 197,
     "metadata": {},
     "output_type": "execute_result"
    }
   ],
   "source": [
    "vals.count() / len(vals)"
   ]
  },
  {
   "cell_type": "code",
   "execution_count": 198,
   "id": "bf0cefc1",
   "metadata": {},
   "outputs": [
    {
     "data": {
      "text/plain": [
       "46                     Brisk\n",
       "51                     Brisk\n",
       "55                     Brisk\n",
       "77         Normal <3 Seconds\n",
       "78         Normal <3 Seconds\n",
       "                 ...        \n",
       "9575477                Brisk\n",
       "9575482                Brisk\n",
       "9575487                Brisk\n",
       "9575494                Brisk\n",
       "9575548       Normal <3 secs\n",
       "Name: CRR, Length: 604740, dtype: object"
      ]
     },
     "execution_count": 198,
     "metadata": {},
     "output_type": "execute_result"
    }
   ],
   "source": [
    "vals.dropna()"
   ]
  },
  {
   "cell_type": "code",
   "execution_count": 199,
   "id": "6f930642",
   "metadata": {},
   "outputs": [
    {
     "data": {
      "text/plain": [
       "CRR\n",
       "Brisk                  438072\n",
       "Normal <3 Seconds      140576\n",
       "Normal <3 secs          16454\n",
       "Abnormal >3 Seconds      6018\n",
       "Delayed                  1747\n",
       "Abnormal >3 secs         1692\n",
       "Other/Remarks              93\n",
       "Comment                    88\n",
       "Name: count, dtype: int64"
      ]
     },
     "execution_count": 199,
     "metadata": {},
     "output_type": "execute_result"
    }
   ],
   "source": [
    "vals.value_counts()"
   ]
  },
  {
   "cell_type": "markdown",
   "id": "e69aa5b1",
   "metadata": {},
   "source": [
    "## Urine Output"
   ]
  },
  {
   "cell_type": "code",
   "execution_count": 114,
   "id": "55777686",
   "metadata": {},
   "outputs": [
    {
     "data": {
      "text/plain": [
       "0          None\n",
       "1          None\n",
       "2          None\n",
       "3          None\n",
       "4          None\n",
       "           ... \n",
       "9575556    None\n",
       "9575557    None\n",
       "9575558    None\n",
       "9575559    None\n",
       "9575560    None\n",
       "Name: Urine Output, Length: 9575561, dtype: object"
      ]
     },
     "execution_count": 114,
     "metadata": {},
     "output_type": "execute_result"
    }
   ],
   "source": [
    "vals = pdf[\"Urine Output\"]\n",
    "vals"
   ]
  },
  {
   "cell_type": "code",
   "execution_count": 115,
   "id": "98abdca3",
   "metadata": {},
   "outputs": [
    {
     "data": {
      "text/plain": [
       "8.354601887033041e-07"
      ]
     },
     "execution_count": 115,
     "metadata": {},
     "output_type": "execute_result"
    }
   ],
   "source": [
    "vals.count() / len(vals)"
   ]
  },
  {
   "cell_type": "markdown",
   "id": "407c1c70",
   "metadata": {},
   "source": [
    "Just drop it"
   ]
  },
  {
   "cell_type": "markdown",
   "id": "673b3738",
   "metadata": {},
   "source": [
    "## FiO2"
   ]
  },
  {
   "cell_type": "markdown",
   "id": "0e961e4d",
   "metadata": {},
   "source": [
    "Fraction of inspired oxygen.\n",
    "0.21 for natural air.\n",
    "Gas with increased fraction of oxygen may be used in intensive care."
   ]
  },
  {
   "cell_type": "code",
   "execution_count": 120,
   "id": "7d2dc696",
   "metadata": {},
   "outputs": [
    {
     "data": {
      "text/plain": [
       "0         NaN\n",
       "1         NaN\n",
       "2         NaN\n",
       "3         NaN\n",
       "4         NaN\n",
       "           ..\n",
       "9575556   NaN\n",
       "9575557   NaN\n",
       "9575558   NaN\n",
       "9575559   NaN\n",
       "9575560   NaN\n",
       "Name: FiO2, Length: 9575561, dtype: float64"
      ]
     },
     "execution_count": 120,
     "metadata": {},
     "output_type": "execute_result"
    }
   ],
   "source": [
    "vals = pdf[\"FiO2\"].astype(float)\n",
    "vals"
   ]
  },
  {
   "cell_type": "code",
   "execution_count": 121,
   "id": "b42db3a9",
   "metadata": {},
   "outputs": [
    {
     "data": {
      "text/plain": [
       "0.12802163758342722"
      ]
     },
     "execution_count": 121,
     "metadata": {},
     "output_type": "execute_result"
    }
   ],
   "source": [
    "vals.count() / len(vals)"
   ]
  },
  {
   "cell_type": "code",
   "execution_count": 122,
   "id": "11153530",
   "metadata": {},
   "outputs": [
    {
     "data": {
      "text/plain": [
       "(0.0, 10050.0)"
      ]
     },
     "execution_count": 122,
     "metadata": {},
     "output_type": "execute_result"
    }
   ],
   "source": [
    "vals.min(), vals.max()"
   ]
  },
  {
   "cell_type": "code",
   "execution_count": 123,
   "id": "e20d0f43",
   "metadata": {},
   "outputs": [
    {
     "data": {
      "text/plain": [
       "array([  0.,   3.,  21.,  21., 100., 100., 100., 100.])"
      ]
     },
     "execution_count": 123,
     "metadata": {},
     "output_type": "execute_result"
    }
   ],
   "source": [
    "np.quantile(vals.dropna(), [0.0001, 0.001, 0.01, 0.1, 0.9, 0.99, 0.999, 0.9999])"
   ]
  },
  {
   "cell_type": "code",
   "execution_count": 124,
   "id": "95ddac0e",
   "metadata": {},
   "outputs": [
    {
     "data": {
      "text/plain": [
       "<Axes: xlabel='FiO2', ylabel='Density'>"
      ]
     },
     "execution_count": 124,
     "metadata": {},
     "output_type": "execute_result"
    },
    {
     "data": {
      "image/png": "[encoded data removed]",
      "text/plain": [
       "<Figure size 640x480 with 1 Axes>"
      ]
     },
     "metadata": {},
     "output_type": "display_data"
    }
   ],
   "source": [
    "sns.kdeplot(vals[vals <= 100])"
   ]
  },
  {
   "cell_type": "markdown",
   "id": "024107bf",
   "metadata": {},
   "source": [
    "## Glucose"
   ]
  },
  {
   "cell_type": "markdown",
   "id": "3393d4d5",
   "metadata": {},
   "source": [
    "Blood sugar level"
   ]
  },
  {
   "cell_type": "code",
   "execution_count": 127,
   "id": "30039e47",
   "metadata": {},
   "outputs": [
    {
     "data": {
      "text/plain": [
       "0           172\n",
       "1           191\n",
       "2          None\n",
       "3           172\n",
       "4          None\n",
       "           ... \n",
       "9575556    None\n",
       "9575557    None\n",
       "9575558    None\n",
       "9575559     156\n",
       "9575560    None\n",
       "Name: Glucose, Length: 9575561, dtype: object"
      ]
     },
     "execution_count": 127,
     "metadata": {},
     "output_type": "execute_result"
    }
   ],
   "source": [
    "vals = pdf[\"Glucose\"]\n",
    "vals"
   ]
  },
  {
   "cell_type": "code",
   "execution_count": 128,
   "id": "39d01a4d",
   "metadata": {},
   "outputs": [
    {
     "data": {
      "text/plain": [
       "0.13291513677370967"
      ]
     },
     "execution_count": 128,
     "metadata": {},
     "output_type": "execute_result"
    }
   ],
   "source": [
    "vals.count() / len(vals)"
   ]
  },
  {
   "cell_type": "code",
   "execution_count": 129,
   "id": "fae6d913",
   "metadata": {},
   "outputs": [
    {
     "data": {
      "text/plain": [
       "0.0007917029613199686"
      ]
     },
     "execution_count": 129,
     "metadata": {},
     "output_type": "execute_result"
    }
   ],
   "source": [
    "(vals.str.isnumeric() == False).sum() / len(vals)"
   ]
  },
  {
   "cell_type": "code",
   "execution_count": 130,
   "id": "6e376d3e",
   "metadata": {},
   "outputs": [
    {
     "data": {
      "text/plain": [
       "1245        258cs\n",
       "2499        CS142\n",
       "4934       CS 132\n",
       "6167        cs191\n",
       "7678        CS162\n",
       "            ...  \n",
       "9572195     110cs\n",
       "9572693     cs140\n",
       "9573323     126cs\n",
       "9573603      99cs\n",
       "9573668    CS 132\n",
       "Name: Glucose, Length: 7581, dtype: object"
      ]
     },
     "execution_count": 130,
     "metadata": {},
     "output_type": "execute_result"
    }
   ],
   "source": [
    "vals[vals.str.isnumeric() == False]"
   ]
  },
  {
   "cell_type": "code",
   "execution_count": 141,
   "id": "2221e015",
   "metadata": {},
   "outputs": [],
   "source": [
    "vals_replaced = vals.str.lower().str.replace(\"cs\", \"\").str.strip()"
   ]
  },
  {
   "cell_type": "code",
   "execution_count": 142,
   "id": "149fe8e7",
   "metadata": {},
   "outputs": [
    {
     "data": {
      "text/plain": [
       "27498         '117\n",
       "50520       4urssi\n",
       "53068      2 units\n",
       "90567       fs 223\n",
       "142118       error\n",
       "            ...   \n",
       "9530669      171fs\n",
       "9530990       -233\n",
       "9532290      2ureg\n",
       "9563402      149fs\n",
       "9570711    no data\n",
       "Name: Glucose, Length: 791, dtype: object"
      ]
     },
     "execution_count": 142,
     "metadata": {},
     "output_type": "execute_result"
    }
   ],
   "source": [
    "vals_replaced[vals_replaced.str.isnumeric() == False]"
   ]
  },
  {
   "cell_type": "code",
   "execution_count": 143,
   "id": "1511a051",
   "metadata": {},
   "outputs": [],
   "source": [
    "vals_replaced = vals_replaced.where(vals_replaced.str.isnumeric() != False).astype(float)"
   ]
  },
  {
   "cell_type": "code",
   "execution_count": 146,
   "id": "a2e3dab4",
   "metadata": {},
   "outputs": [
    {
     "data": {
      "text/plain": [
       "array([  0.   ,  34.   ,  59.   ,  90.   , 203.   , 348.   , 501.   ,\n",
       "       933.222])"
      ]
     },
     "execution_count": 146,
     "metadata": {},
     "output_type": "execute_result"
    }
   ],
   "source": [
    "np.quantile(vals_replaced.dropna(), [0.0001, 0.001, 0.01, 0.1, 0.9, 0.99, 0.999, 0.9999])"
   ]
  },
  {
   "cell_type": "code",
   "execution_count": 151,
   "id": "2da42c88",
   "metadata": {},
   "outputs": [
    {
     "data": {
      "text/plain": [
       "<Axes: xlabel='Glucose', ylabel='Density'>"
      ]
     },
     "execution_count": 151,
     "metadata": {},
     "output_type": "execute_result"
    },
    {
     "data": {
      "image/png": "[encoded data removed]",
      "text/plain": [
       "<Figure size 640x480 with 1 Axes>"
      ]
     },
     "metadata": {},
     "output_type": "display_data"
    }
   ],
   "source": [
    "sns.kdeplot(vals_replaced[vals_replaced < 1000])"
   ]
  },
  {
   "cell_type": "code",
   "execution_count": 152,
   "id": "20bff29e",
   "metadata": {},
   "outputs": [
    {
     "data": {
      "text/plain": [
       "<Axes: xlabel='Glucose', ylabel='Density'>"
      ]
     },
     "execution_count": 152,
     "metadata": {},
     "output_type": "execute_result"
    },
    {
     "data": {
      "image/png": "[encoded data removed]",
      "text/plain": [
       "<Figure size 640x480 with 1 Axes>"
      ]
     },
     "metadata": {},
     "output_type": "display_data"
    }
   ],
   "source": [
    "sns.kdeplot(np.log1p(vals_replaced[vals_replaced < 1000]))"
   ]
  },
  {
   "cell_type": "markdown",
   "id": "5c1715d4",
   "metadata": {},
   "source": [
    "Better to log-transform it. 0 to NaN"
   ]
  },
  {
   "cell_type": "markdown",
   "id": "271ecfa1",
   "metadata": {},
   "source": [
    "## pH"
   ]
  },
  {
   "cell_type": "markdown",
   "id": "e071a165",
   "metadata": {},
   "source": [
    "Blood pH. Normally aroung 7.40"
   ]
  },
  {
   "cell_type": "code",
   "execution_count": 157,
   "id": "90883e15",
   "metadata": {},
   "outputs": [
    {
     "data": {
      "text/plain": [
       "0          None\n",
       "1          None\n",
       "2          None\n",
       "3          None\n",
       "4          None\n",
       "           ... \n",
       "9575556    None\n",
       "9575557    None\n",
       "9575558    7.25\n",
       "9575559    None\n",
       "9575560    None\n",
       "Name: pH, Length: 9575561, dtype: object"
      ]
     },
     "execution_count": 157,
     "metadata": {},
     "output_type": "execute_result"
    }
   ],
   "source": [
    "vals = pdf[\"pH\"]\n",
    "vals"
   ]
  },
  {
   "cell_type": "code",
   "execution_count": 158,
   "id": "2e66241f",
   "metadata": {},
   "outputs": [
    {
     "data": {
      "text/plain": [
       "0.04976042656926315"
      ]
     },
     "execution_count": 158,
     "metadata": {},
     "output_type": "execute_result"
    }
   ],
   "source": [
    "vals.count() / len(vals)"
   ]
  },
  {
   "cell_type": "code",
   "execution_count": 161,
   "id": "b618e8bc",
   "metadata": {},
   "outputs": [
    {
     "data": {
      "text/plain": [
       "69         7.33\n",
       "72         7.38\n",
       "75         7.43\n",
       "99         7.41\n",
       "131        7.35\n",
       "           ... \n",
       "9575458     7.4\n",
       "9575522    7.38\n",
       "9575533    7.38\n",
       "9575538    7.43\n",
       "9575558    7.25\n",
       "Name: pH, Length: 464532, dtype: object"
      ]
     },
     "execution_count": 161,
     "metadata": {},
     "output_type": "execute_result"
    }
   ],
   "source": [
    "vals[vals.str.isnumeric() == False]"
   ]
  },
  {
   "cell_type": "code",
   "execution_count": 169,
   "id": "5322f81c",
   "metadata": {},
   "outputs": [],
   "source": [
    "invalid = vals.apply(pd.to_numeric, errors='coerce').isna()"
   ]
  },
  {
   "cell_type": "code",
   "execution_count": 170,
   "id": "cadef1aa",
   "metadata": {},
   "outputs": [
    {
     "data": {
      "text/plain": [
       "44749      no data\n",
       "58090            .\n",
       "162261     albuter\n",
       "191840           .\n",
       "373611        sent\n",
       "            ...   \n",
       "9359186    Alb/Atr\n",
       "9380016          .\n",
       "9382593    abg drw\n",
       "9449025      ERROR\n",
       "9543979      ERROR\n",
       "Name: pH, Length: 155, dtype: object"
      ]
     },
     "execution_count": 170,
     "metadata": {},
     "output_type": "execute_result"
    }
   ],
   "source": [
    "vals[invalid].dropna()"
   ]
  },
  {
   "cell_type": "code",
   "execution_count": 171,
   "id": "5e025c8d",
   "metadata": {},
   "outputs": [
    {
     "data": {
      "text/plain": [
       "0           NaN\n",
       "1           NaN\n",
       "2           NaN\n",
       "3           NaN\n",
       "4           NaN\n",
       "           ... \n",
       "9575556     NaN\n",
       "9575557     NaN\n",
       "9575558    7.25\n",
       "9575559     NaN\n",
       "9575560     NaN\n",
       "Name: pH, Length: 9575561, dtype: float64"
      ]
     },
     "execution_count": 171,
     "metadata": {},
     "output_type": "execute_result"
    }
   ],
   "source": [
    "vals_replaced = vals.where(~invalid, None).astype(float)\n",
    "vals_replaced"
   ]
  },
  {
   "cell_type": "code",
   "execution_count": 173,
   "id": "be591498",
   "metadata": {},
   "outputs": [
    {
     "data": {
      "text/plain": [
       "array([ 5.    ,  5.    ,  5.    ,  7.26  ,  7.47  ,  7.54  ,  8.    ,\n",
       "       39.1016])"
      ]
     },
     "execution_count": 173,
     "metadata": {},
     "output_type": "execute_result"
    }
   ],
   "source": [
    "np.quantile(vals_replaced.dropna(), [0.0001, 0.001, 0.01, 0.1, 0.9, 0.99, 0.999, 0.9999])"
   ]
  },
  {
   "cell_type": "code",
   "execution_count": 175,
   "id": "3a54deaa",
   "metadata": {},
   "outputs": [
    {
     "data": {
      "text/plain": [
       "<Axes: xlabel='pH', ylabel='Density'>"
      ]
     },
     "execution_count": 175,
     "metadata": {},
     "output_type": "execute_result"
    },
    {
     "data": {
      "image/png": "[encoded data removed]",
      "text/plain": [
       "<Figure size 640x480 with 1 Axes>"
      ]
     },
     "metadata": {},
     "output_type": "display_data"
    }
   ],
   "source": [
    "sns.kdeplot(vals_replaced[(vals_replaced < 9) & (vals_replaced > 5)])"
   ]
  },
  {
   "cell_type": "code",
   "execution_count": 176,
   "id": "2b9dc754",
   "metadata": {},
   "outputs": [
    {
     "data": {
      "text/plain": [
       "7.348869772751987"
      ]
     },
     "execution_count": 176,
     "metadata": {},
     "output_type": "execute_result"
    }
   ],
   "source": [
    "vals_replaced.mean()"
   ]
  },
  {
   "cell_type": "code",
   "execution_count": null,
   "id": "7ebaea61",
   "metadata": {},
   "outputs": [],
   "source": []
  },
  {
   "cell_type": "code",
   "execution_count": null,
   "id": "8b8fd114",
   "metadata": {},
   "outputs": [],
   "source": []
  }
 ],
 "metadata": {
  "kernelspec": {
   "display_name": "Python 3 (ipykernel)",
   "language": "python",
   "name": "python3"
  },
  "language_info": {
   "codemirror_mode": {
    "name": "ipython",
    "version": 3
   },
   "file_extension": ".py",
   "mimetype": "text/x-python",
   "name": "python",
   "nbconvert_exporter": "python",
   "pygments_lexer": "ipython3",
   "version": "3.10.12"
  }
 },
 "nbformat": 4,
 "nbformat_minor": 5
}
