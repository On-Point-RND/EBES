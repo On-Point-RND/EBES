{
 "cells": [
  {
   "cell_type": "code",
   "execution_count": 2,
   "id": "c4b8a503",
   "metadata": {},
   "outputs": [],
   "source": [
    "import pandas as pd\n",
    "import numpy as np\n",
    "import matplotlib.pyplot as plt\n",
    "import seaborn as sns\n",
    "from pathlib import Path\n",
    "from IPython.display import display\n",
    "\n",
    "sns.set()\n",
    "plt.rcParams['svg.fonttype'] = 'none'"
   ]
  },
  {
   "cell_type": "code",
   "execution_count": 3,
   "id": "4288c8c5",
   "metadata": {},
   "outputs": [],
   "source": [
    "DATA_PATH = Path(\"../data/age/\")\n",
    "FIGS_PATH = Path(\"figures/eda-age/\")"
   ]
  },
  {
   "cell_type": "code",
   "execution_count": 4,
   "id": "bbdfac48",
   "metadata": {},
   "outputs": [],
   "source": [
    "CAT_FEATURES = [\"small_group\"]"
   ]
  },
  {
   "cell_type": "code",
   "execution_count": 5,
   "id": "49c10e24",
   "metadata": {},
   "outputs": [
    {
     "name": "stdout",
     "output_type": "stream",
     "text": [
      "CPU times: user 6.51 s, sys: 1.05 s, total: 7.57 s\n",
      "Wall time: 7.56 s\n"
     ]
    },
    {
     "data": {
      "text/html": [
       "<div>\n",
       "<style scoped>\n",
       "    .dataframe tbody tr th:only-of-type {\n",
       "        vertical-align: middle;\n",
       "    }\n",
       "\n",
       "    .dataframe tbody tr th {\n",
       "        vertical-align: top;\n",
       "    }\n",
       "\n",
       "    .dataframe thead th {\n",
       "        text-align: right;\n",
       "    }\n",
       "</style>\n",
       "<table border=\"1\" class=\"dataframe\">\n",
       "  <thead>\n",
       "    <tr style=\"text-align: right;\">\n",
       "      <th></th>\n",
       "      <th>client_id</th>\n",
       "      <th>trans_date</th>\n",
       "      <th>small_group</th>\n",
       "      <th>amount_rur</th>\n",
       "    </tr>\n",
       "  </thead>\n",
       "  <tbody>\n",
       "    <tr>\n",
       "      <th>0</th>\n",
       "      <td>33172</td>\n",
       "      <td>6</td>\n",
       "      <td>4</td>\n",
       "      <td>71.463</td>\n",
       "    </tr>\n",
       "    <tr>\n",
       "      <th>1</th>\n",
       "      <td>33172</td>\n",
       "      <td>6</td>\n",
       "      <td>35</td>\n",
       "      <td>45.017</td>\n",
       "    </tr>\n",
       "    <tr>\n",
       "      <th>2</th>\n",
       "      <td>33172</td>\n",
       "      <td>8</td>\n",
       "      <td>11</td>\n",
       "      <td>13.887</td>\n",
       "    </tr>\n",
       "    <tr>\n",
       "      <th>3</th>\n",
       "      <td>33172</td>\n",
       "      <td>9</td>\n",
       "      <td>11</td>\n",
       "      <td>15.983</td>\n",
       "    </tr>\n",
       "    <tr>\n",
       "      <th>4</th>\n",
       "      <td>33172</td>\n",
       "      <td>10</td>\n",
       "      <td>11</td>\n",
       "      <td>21.341</td>\n",
       "    </tr>\n",
       "    <tr>\n",
       "      <th>...</th>\n",
       "      <td>...</td>\n",
       "      <td>...</td>\n",
       "      <td>...</td>\n",
       "      <td>...</td>\n",
       "    </tr>\n",
       "    <tr>\n",
       "      <th>26450572</th>\n",
       "      <td>43300</td>\n",
       "      <td>727</td>\n",
       "      <td>25</td>\n",
       "      <td>7.602</td>\n",
       "    </tr>\n",
       "    <tr>\n",
       "      <th>26450573</th>\n",
       "      <td>43300</td>\n",
       "      <td>727</td>\n",
       "      <td>15</td>\n",
       "      <td>3.709</td>\n",
       "    </tr>\n",
       "    <tr>\n",
       "      <th>26450574</th>\n",
       "      <td>43300</td>\n",
       "      <td>727</td>\n",
       "      <td>1</td>\n",
       "      <td>6.448</td>\n",
       "    </tr>\n",
       "    <tr>\n",
       "      <th>26450575</th>\n",
       "      <td>43300</td>\n",
       "      <td>727</td>\n",
       "      <td>11</td>\n",
       "      <td>24.669</td>\n",
       "    </tr>\n",
       "    <tr>\n",
       "      <th>26450576</th>\n",
       "      <td>43300</td>\n",
       "      <td>729</td>\n",
       "      <td>3</td>\n",
       "      <td>19.408</td>\n",
       "    </tr>\n",
       "  </tbody>\n",
       "</table>\n",
       "<p>26450577 rows × 4 columns</p>\n",
       "</div>"
      ],
      "text/plain": [
       "          client_id  trans_date  small_group  amount_rur\n",
       "0             33172           6            4      71.463\n",
       "1             33172           6           35      45.017\n",
       "2             33172           8           11      13.887\n",
       "3             33172           9           11      15.983\n",
       "4             33172          10           11      21.341\n",
       "...             ...         ...          ...         ...\n",
       "26450572      43300         727           25       7.602\n",
       "26450573      43300         727           15       3.709\n",
       "26450574      43300         727            1       6.448\n",
       "26450575      43300         727           11      24.669\n",
       "26450576      43300         729            3      19.408\n",
       "\n",
       "[26450577 rows x 4 columns]"
      ]
     },
     "execution_count": 5,
     "metadata": {},
     "output_type": "execute_result"
    }
   ],
   "source": [
    "%%time\n",
    "\n",
    "df_train = pd.read_csv(DATA_PATH / \"transactions_train.csv\", header=0)\n",
    "df_train"
   ]
  },
  {
   "cell_type": "code",
   "execution_count": 6,
   "id": "9215a214",
   "metadata": {},
   "outputs": [
    {
     "name": "stdout",
     "output_type": "stream",
     "text": [
      "CPU times: user 4.35 s, sys: 681 ms, total: 5.03 s\n",
      "Wall time: 5.03 s\n"
     ]
    },
    {
     "data": {
      "text/html": [
       "<div>\n",
       "<style scoped>\n",
       "    .dataframe tbody tr th:only-of-type {\n",
       "        vertical-align: middle;\n",
       "    }\n",
       "\n",
       "    .dataframe tbody tr th {\n",
       "        vertical-align: top;\n",
       "    }\n",
       "\n",
       "    .dataframe thead th {\n",
       "        text-align: right;\n",
       "    }\n",
       "</style>\n",
       "<table border=\"1\" class=\"dataframe\">\n",
       "  <thead>\n",
       "    <tr style=\"text-align: right;\">\n",
       "      <th></th>\n",
       "      <th>client_id</th>\n",
       "      <th>trans_date</th>\n",
       "      <th>small_group</th>\n",
       "      <th>amount_rur</th>\n",
       "    </tr>\n",
       "  </thead>\n",
       "  <tbody>\n",
       "    <tr>\n",
       "      <th>0</th>\n",
       "      <td>46445</td>\n",
       "      <td>3</td>\n",
       "      <td>0</td>\n",
       "      <td>19.555</td>\n",
       "    </tr>\n",
       "    <tr>\n",
       "      <th>1</th>\n",
       "      <td>46445</td>\n",
       "      <td>3</td>\n",
       "      <td>1</td>\n",
       "      <td>27.774</td>\n",
       "    </tr>\n",
       "    <tr>\n",
       "      <th>2</th>\n",
       "      <td>46445</td>\n",
       "      <td>4</td>\n",
       "      <td>0</td>\n",
       "      <td>18.114</td>\n",
       "    </tr>\n",
       "    <tr>\n",
       "      <th>3</th>\n",
       "      <td>46445</td>\n",
       "      <td>4</td>\n",
       "      <td>1</td>\n",
       "      <td>22.183</td>\n",
       "    </tr>\n",
       "    <tr>\n",
       "      <th>4</th>\n",
       "      <td>46445</td>\n",
       "      <td>5</td>\n",
       "      <td>2</td>\n",
       "      <td>45.795</td>\n",
       "    </tr>\n",
       "    <tr>\n",
       "      <th>...</th>\n",
       "      <td>...</td>\n",
       "      <td>...</td>\n",
       "      <td>...</td>\n",
       "      <td>...</td>\n",
       "    </tr>\n",
       "    <tr>\n",
       "      <th>17667323</th>\n",
       "      <td>14864</td>\n",
       "      <td>727</td>\n",
       "      <td>1</td>\n",
       "      <td>21.824</td>\n",
       "    </tr>\n",
       "    <tr>\n",
       "      <th>17667324</th>\n",
       "      <td>14864</td>\n",
       "      <td>728</td>\n",
       "      <td>36</td>\n",
       "      <td>84.900</td>\n",
       "    </tr>\n",
       "    <tr>\n",
       "      <th>17667325</th>\n",
       "      <td>14864</td>\n",
       "      <td>728</td>\n",
       "      <td>3</td>\n",
       "      <td>2.748</td>\n",
       "    </tr>\n",
       "    <tr>\n",
       "      <th>17667326</th>\n",
       "      <td>14864</td>\n",
       "      <td>728</td>\n",
       "      <td>1</td>\n",
       "      <td>47.369</td>\n",
       "    </tr>\n",
       "    <tr>\n",
       "      <th>17667327</th>\n",
       "      <td>14864</td>\n",
       "      <td>729</td>\n",
       "      <td>3</td>\n",
       "      <td>4.579</td>\n",
       "    </tr>\n",
       "  </tbody>\n",
       "</table>\n",
       "<p>17667328 rows × 4 columns</p>\n",
       "</div>"
      ],
      "text/plain": [
       "          client_id  trans_date  small_group  amount_rur\n",
       "0             46445           3            0      19.555\n",
       "1             46445           3            1      27.774\n",
       "2             46445           4            0      18.114\n",
       "3             46445           4            1      22.183\n",
       "4             46445           5            2      45.795\n",
       "...             ...         ...          ...         ...\n",
       "17667323      14864         727            1      21.824\n",
       "17667324      14864         728           36      84.900\n",
       "17667325      14864         728            3       2.748\n",
       "17667326      14864         728            1      47.369\n",
       "17667327      14864         729            3       4.579\n",
       "\n",
       "[17667328 rows x 4 columns]"
      ]
     },
     "execution_count": 6,
     "metadata": {},
     "output_type": "execute_result"
    }
   ],
   "source": [
    "%%time\n",
    "\n",
    "df_test = pd.read_csv(DATA_PATH / \"transactions_test.csv\", header=0)\n",
    "df_test"
   ]
  },
  {
   "cell_type": "code",
   "execution_count": 22,
   "id": "448aa9b7",
   "metadata": {},
   "outputs": [
    {
     "data": {
      "text/plain": [
       "set()"
      ]
     },
     "execution_count": 22,
     "metadata": {},
     "output_type": "execute_result"
    }
   ],
   "source": [
    "set(df_train.client_id).intersection(set(df_test.client_id))"
   ]
  },
  {
   "cell_type": "code",
   "execution_count": 7,
   "id": "437fe2ea",
   "metadata": {},
   "outputs": [
    {
     "name": "stdout",
     "output_type": "stream",
     "text": [
      "CPU times: user 14.9 ms, sys: 5.64 ms, total: 20.6 ms\n",
      "Wall time: 18 ms\n"
     ]
    },
    {
     "data": {
      "text/html": [
       "<div>\n",
       "<style scoped>\n",
       "    .dataframe tbody tr th:only-of-type {\n",
       "        vertical-align: middle;\n",
       "    }\n",
       "\n",
       "    .dataframe tbody tr th {\n",
       "        vertical-align: top;\n",
       "    }\n",
       "\n",
       "    .dataframe thead th {\n",
       "        text-align: right;\n",
       "    }\n",
       "</style>\n",
       "<table border=\"1\" class=\"dataframe\">\n",
       "  <thead>\n",
       "    <tr style=\"text-align: right;\">\n",
       "      <th></th>\n",
       "      <th>client_id</th>\n",
       "      <th>bins</th>\n",
       "    </tr>\n",
       "  </thead>\n",
       "  <tbody>\n",
       "    <tr>\n",
       "      <th>0</th>\n",
       "      <td>24662</td>\n",
       "      <td>2</td>\n",
       "    </tr>\n",
       "    <tr>\n",
       "      <th>1</th>\n",
       "      <td>1046</td>\n",
       "      <td>0</td>\n",
       "    </tr>\n",
       "    <tr>\n",
       "      <th>2</th>\n",
       "      <td>34089</td>\n",
       "      <td>2</td>\n",
       "    </tr>\n",
       "    <tr>\n",
       "      <th>3</th>\n",
       "      <td>34848</td>\n",
       "      <td>1</td>\n",
       "    </tr>\n",
       "    <tr>\n",
       "      <th>4</th>\n",
       "      <td>47076</td>\n",
       "      <td>3</td>\n",
       "    </tr>\n",
       "    <tr>\n",
       "      <th>...</th>\n",
       "      <td>...</td>\n",
       "      <td>...</td>\n",
       "    </tr>\n",
       "    <tr>\n",
       "      <th>29995</th>\n",
       "      <td>14303</td>\n",
       "      <td>1</td>\n",
       "    </tr>\n",
       "    <tr>\n",
       "      <th>29996</th>\n",
       "      <td>22301</td>\n",
       "      <td>2</td>\n",
       "    </tr>\n",
       "    <tr>\n",
       "      <th>29997</th>\n",
       "      <td>25731</td>\n",
       "      <td>0</td>\n",
       "    </tr>\n",
       "    <tr>\n",
       "      <th>29998</th>\n",
       "      <td>16820</td>\n",
       "      <td>3</td>\n",
       "    </tr>\n",
       "    <tr>\n",
       "      <th>29999</th>\n",
       "      <td>5265</td>\n",
       "      <td>0</td>\n",
       "    </tr>\n",
       "  </tbody>\n",
       "</table>\n",
       "<p>30000 rows × 2 columns</p>\n",
       "</div>"
      ],
      "text/plain": [
       "       client_id  bins\n",
       "0          24662     2\n",
       "1           1046     0\n",
       "2          34089     2\n",
       "3          34848     1\n",
       "4          47076     3\n",
       "...          ...   ...\n",
       "29995      14303     1\n",
       "29996      22301     2\n",
       "29997      25731     0\n",
       "29998      16820     3\n",
       "29999       5265     0\n",
       "\n",
       "[30000 rows x 2 columns]"
      ]
     },
     "execution_count": 7,
     "metadata": {},
     "output_type": "execute_result"
    }
   ],
   "source": [
    "%%time\n",
    "\n",
    "target_train = pd.read_csv(DATA_PATH / \"train_target.csv\")\n",
    "target_train"
   ]
  },
  {
   "cell_type": "code",
   "execution_count": 27,
   "id": "420b23f4",
   "metadata": {},
   "outputs": [
    {
     "data": {
      "text/plain": [
       "False"
      ]
     },
     "execution_count": 27,
     "metadata": {},
     "output_type": "execute_result"
    }
   ],
   "source": [
    "df_train.isna().any().any()"
   ]
  },
  {
   "cell_type": "code",
   "execution_count": 28,
   "id": "57e294f8",
   "metadata": {},
   "outputs": [
    {
     "data": {
      "text/plain": [
       "False"
      ]
     },
     "execution_count": 28,
     "metadata": {},
     "output_type": "execute_result"
    }
   ],
   "source": [
    "df_test.isna().any().any()"
   ]
  },
  {
   "cell_type": "code",
   "execution_count": 9,
   "id": "ab058c4b",
   "metadata": {},
   "outputs": [
    {
     "data": {
      "text/plain": [
       "client_id\n",
       "4         720\n",
       "6         730\n",
       "7         773\n",
       "10        706\n",
       "11        812\n",
       "         ... \n",
       "49993     901\n",
       "49995     969\n",
       "49996    1138\n",
       "49997     715\n",
       "49998     782\n",
       "Length: 30000, dtype: int64"
      ]
     },
     "execution_count": 9,
     "metadata": {},
     "output_type": "execute_result"
    }
   ],
   "source": [
    "lens = df_train.groupby(\"client_id\").size()\n",
    "lens"
   ]
  },
  {
   "cell_type": "code",
   "execution_count": 10,
   "id": "f15f6802",
   "metadata": {},
   "outputs": [
    {
     "data": {
      "text/plain": [
       "700     120\n",
       "701      92\n",
       "702     119\n",
       "703     108\n",
       "704     100\n",
       "       ... \n",
       "1146     36\n",
       "1147     31\n",
       "1148     42\n",
       "1149     37\n",
       "1150     45\n",
       "Name: count, Length: 451, dtype: int64"
      ]
     },
     "execution_count": 10,
     "metadata": {},
     "output_type": "execute_result"
    }
   ],
   "source": [
    "lens.value_counts().sort_index()"
   ]
  },
  {
   "cell_type": "code",
   "execution_count": 13,
   "id": "29617725",
   "metadata": {},
   "outputs": [
    {
     "data": {
      "image/png": "[encoded data removed]",
      "text/plain": [
       "<Figure size 640x480 with 1 Axes>"
      ]
     },
     "metadata": {},
     "output_type": "display_data"
    }
   ],
   "source": [
    "fig, ax = plt.subplots()\n",
    "\n",
    "sns.histplot(lens, ax=ax)\n",
    "\n",
    "fig.savefig(FIGS_PATH / \"train_len.svg\")"
   ]
  },
  {
   "cell_type": "code",
   "execution_count": 23,
   "id": "eb2222cd",
   "metadata": {},
   "outputs": [
    {
     "data": {
      "image/png": "[encoded data removed]",
      "text/plain": [
       "<Figure size 640x480 with 1 Axes>"
      ]
     },
     "metadata": {},
     "output_type": "display_data"
    }
   ],
   "source": [
    "fig, ax = plt.subplots()\n",
    "\n",
    "sns.histplot(lens, ax=ax)\n",
    "\n",
    "fig.savefig(FIGS_PATH / \"test_len.svg\")"
   ]
  },
  {
   "cell_type": "code",
   "execution_count": 15,
   "id": "99d3c9d1",
   "metadata": {},
   "outputs": [
    {
     "data": {
      "text/plain": [
       "small_group    202\n",
       "dtype: int64"
      ]
     },
     "execution_count": 15,
     "metadata": {},
     "output_type": "execute_result"
    }
   ],
   "source": [
    "df_train[CAT_FEATURES].nunique()"
   ]
  },
  {
   "cell_type": "code",
   "execution_count": 24,
   "id": "b0a11146",
   "metadata": {},
   "outputs": [
    {
     "data": {
      "text/plain": [
       "small_group    202\n",
       "dtype: int64"
      ]
     },
     "execution_count": 24,
     "metadata": {},
     "output_type": "execute_result"
    }
   ],
   "source": [
    "df_test[CAT_FEATURES].nunique()"
   ]
  },
  {
   "cell_type": "code",
   "execution_count": 17,
   "id": "dcd8e71e",
   "metadata": {},
   "outputs": [],
   "source": [
    "last_dt = (\n",
    "    df_train\n",
    "    .groupby(\"client_id\")\n",
    "    [\"trans_date\"]\n",
    "    .max()\n",
    ")"
   ]
  },
  {
   "cell_type": "code",
   "execution_count": 19,
   "id": "da5b8682",
   "metadata": {},
   "outputs": [
    {
     "data": {
      "text/html": [
       "<div>\n",
       "<style scoped>\n",
       "    .dataframe tbody tr th:only-of-type {\n",
       "        vertical-align: middle;\n",
       "    }\n",
       "\n",
       "    .dataframe tbody tr th {\n",
       "        vertical-align: top;\n",
       "    }\n",
       "\n",
       "    .dataframe thead th {\n",
       "        text-align: right;\n",
       "    }\n",
       "</style>\n",
       "<table border=\"1\" class=\"dataframe\">\n",
       "  <thead>\n",
       "    <tr style=\"text-align: right;\">\n",
       "      <th></th>\n",
       "      <th>trans_date</th>\n",
       "      <th>weights</th>\n",
       "    </tr>\n",
       "    <tr>\n",
       "      <th>client_id</th>\n",
       "      <th></th>\n",
       "      <th></th>\n",
       "    </tr>\n",
       "  </thead>\n",
       "  <tbody>\n",
       "    <tr>\n",
       "      <th>33172</th>\n",
       "      <td>6</td>\n",
       "      <td>4.317789e-08</td>\n",
       "    </tr>\n",
       "    <tr>\n",
       "      <th>33172</th>\n",
       "      <td>6</td>\n",
       "      <td>4.317789e-08</td>\n",
       "    </tr>\n",
       "    <tr>\n",
       "      <th>33172</th>\n",
       "      <td>8</td>\n",
       "      <td>4.317789e-08</td>\n",
       "    </tr>\n",
       "    <tr>\n",
       "      <th>33172</th>\n",
       "      <td>9</td>\n",
       "      <td>4.317789e-08</td>\n",
       "    </tr>\n",
       "    <tr>\n",
       "      <th>33172</th>\n",
       "      <td>10</td>\n",
       "      <td>4.317789e-08</td>\n",
       "    </tr>\n",
       "    <tr>\n",
       "      <th>...</th>\n",
       "      <td>...</td>\n",
       "      <td>...</td>\n",
       "    </tr>\n",
       "    <tr>\n",
       "      <th>43300</th>\n",
       "      <td>727</td>\n",
       "      <td>3.711952e-08</td>\n",
       "    </tr>\n",
       "    <tr>\n",
       "      <th>43300</th>\n",
       "      <td>727</td>\n",
       "      <td>3.711952e-08</td>\n",
       "    </tr>\n",
       "    <tr>\n",
       "      <th>43300</th>\n",
       "      <td>727</td>\n",
       "      <td>3.711952e-08</td>\n",
       "    </tr>\n",
       "    <tr>\n",
       "      <th>43300</th>\n",
       "      <td>727</td>\n",
       "      <td>3.711952e-08</td>\n",
       "    </tr>\n",
       "    <tr>\n",
       "      <th>43300</th>\n",
       "      <td>729</td>\n",
       "      <td>3.711952e-08</td>\n",
       "    </tr>\n",
       "  </tbody>\n",
       "</table>\n",
       "<p>26450577 rows × 2 columns</p>\n",
       "</div>"
      ],
      "text/plain": [
       "           trans_date       weights\n",
       "client_id                          \n",
       "33172               6  4.317789e-08\n",
       "33172               6  4.317789e-08\n",
       "33172               8  4.317789e-08\n",
       "33172               9  4.317789e-08\n",
       "33172              10  4.317789e-08\n",
       "...               ...           ...\n",
       "43300             727  3.711952e-08\n",
       "43300             727  3.711952e-08\n",
       "43300             727  3.711952e-08\n",
       "43300             727  3.711952e-08\n",
       "43300             729  3.711952e-08\n",
       "\n",
       "[26450577 rows x 2 columns]"
      ]
     },
     "execution_count": 19,
     "metadata": {},
     "output_type": "execute_result"
    }
   ],
   "source": [
    "dts = (\n",
    "    df_train\n",
    "    [[\"client_id\", \"trans_date\"]]\n",
    "    .set_index(\"client_id\")\n",
    "    .pipe(lambda df: df.join(df.groupby(level=0).size().rename(\"weights\")))\n",
    "    .assign(weights=lambda df: 1 / df.weights / df.index.nunique())\n",
    ")\n",
    "dts"
   ]
  },
  {
   "cell_type": "code",
   "execution_count": 20,
   "id": "49f1f4da",
   "metadata": {},
   "outputs": [
    {
     "data": {
      "image/png": "[encoded data removed]",
      "text/plain": [
       "<Figure size 640x480 with 1 Axes>"
      ]
     },
     "metadata": {},
     "output_type": "display_data"
    }
   ],
   "source": [
    "fig, ax = plt.subplots(layout=\"tight\")\n",
    "\n",
    "sns.histplot(\n",
    "    dts,\n",
    "    x=\"trans_date\",\n",
    "    weights=\"weights\",\n",
    "    bins=100,\n",
    "    ax=ax,\n",
    "    label=\"all\",\n",
    ")\n",
    "\n",
    "sns.histplot(\n",
    "    x=last_dt,\n",
    "    weights=np.ones(len(last_dt)) / len(last_dt),\n",
    "    bins=10,\n",
    "    ax=ax,\n",
    "    label=\"last\",\n",
    ")\n",
    "\n",
    "ax.set_xlabel(\"Record datetime\")\n",
    "ax.set_ylabel(\"fraction of customers\")\n",
    "ax.legend()\n",
    "fig.autofmt_xdate()\n",
    "\n",
    "fig.savefig(FIGS_PATH / \"rec_time_hist.svg\")"
   ]
  },
  {
   "cell_type": "code",
   "execution_count": 21,
   "id": "352cddc2",
   "metadata": {},
   "outputs": [
    {
     "data": {
      "image/png": "[encoded data removed]",
      "text/plain": [
       "<Figure size 640x480 with 1 Axes>"
      ]
     },
     "metadata": {},
     "output_type": "display_data"
    }
   ],
   "source": [
    "fig, ax = plt.subplots()\n",
    "\n",
    "sns.histplot(target_train[\"bins\"].astype(str), ax=ax)\n",
    "\n",
    "fig.savefig(FIGS_PATH / \"target.svg\")"
   ]
  },
  {
   "cell_type": "code",
   "execution_count": null,
   "id": "e57cced0",
   "metadata": {},
   "outputs": [],
   "source": []
  }
 ],
 "metadata": {
  "kernelspec": {
   "display_name": "Python 3 (ipykernel)",
   "language": "python",
   "name": "python3"
  },
  "language_info": {
   "codemirror_mode": {
    "name": "ipython",
    "version": 3
   },
   "file_extension": ".py",
   "mimetype": "text/x-python",
   "name": "python",
   "nbconvert_exporter": "python",
   "pygments_lexer": "ipython3",
   "version": "3.10.12"
  }
 },
 "nbformat": 4,
 "nbformat_minor": 5
}
