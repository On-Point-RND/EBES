{
 "cells": [
  {
   "cell_type": "code",
   "execution_count": 1,
   "id": "c4b8a503",
   "metadata": {},
   "outputs": [],
   "source": [
    "import pandas as pd\n",
    "import numpy as np\n",
    "import matplotlib.pyplot as plt\n",
    "import seaborn as sns\n",
    "from pathlib import Path\n",
    "from IPython.display import display\n",
    "\n",
    "sns.set()\n",
    "plt.rcParams['svg.fonttype'] = 'none'"
   ]
  },
  {
   "cell_type": "code",
   "execution_count": 2,
   "id": "4288c8c5",
   "metadata": {},
   "outputs": [],
   "source": [
    "DATA_PATH = Path(\"../../data/taobao/\")\n",
    "FIGS_PATH = Path(\"figures/eda-taobao/\")"
   ]
  },
  {
   "cell_type": "code",
   "execution_count": 3,
   "id": "49c10e24",
   "metadata": {},
   "outputs": [
    {
     "name": "stdout",
     "output_type": "stream",
     "text": [
      "CPU times: user 9.34 s, sys: 1.26 s, total: 10.6 s\n",
      "Wall time: 10.6 s\n"
     ]
    },
    {
     "data": {
      "text/html": [
       "<div>\n",
       "<style scoped>\n",
       "    .dataframe tbody tr th:only-of-type {\n",
       "        vertical-align: middle;\n",
       "    }\n",
       "\n",
       "    .dataframe tbody tr th {\n",
       "        vertical-align: top;\n",
       "    }\n",
       "\n",
       "    .dataframe thead th {\n",
       "        text-align: right;\n",
       "    }\n",
       "</style>\n",
       "<table border=\"1\" class=\"dataframe\">\n",
       "  <thead>\n",
       "    <tr style=\"text-align: right;\">\n",
       "      <th></th>\n",
       "      <th>user_id</th>\n",
       "      <th>item_id</th>\n",
       "      <th>behavior_type</th>\n",
       "      <th>user_geohash</th>\n",
       "      <th>item_category</th>\n",
       "      <th>time</th>\n",
       "    </tr>\n",
       "  </thead>\n",
       "  <tbody>\n",
       "    <tr>\n",
       "      <th>0</th>\n",
       "      <td>98047837</td>\n",
       "      <td>232431562</td>\n",
       "      <td>1</td>\n",
       "      <td>NaN</td>\n",
       "      <td>4245</td>\n",
       "      <td>2014-12-06 02:00:00</td>\n",
       "    </tr>\n",
       "    <tr>\n",
       "      <th>1</th>\n",
       "      <td>97726136</td>\n",
       "      <td>383583590</td>\n",
       "      <td>1</td>\n",
       "      <td>NaN</td>\n",
       "      <td>5894</td>\n",
       "      <td>2014-12-09 20:00:00</td>\n",
       "    </tr>\n",
       "    <tr>\n",
       "      <th>2</th>\n",
       "      <td>98607707</td>\n",
       "      <td>64749712</td>\n",
       "      <td>1</td>\n",
       "      <td>NaN</td>\n",
       "      <td>2883</td>\n",
       "      <td>2014-12-18 11:00:00</td>\n",
       "    </tr>\n",
       "    <tr>\n",
       "      <th>3</th>\n",
       "      <td>98662432</td>\n",
       "      <td>320593836</td>\n",
       "      <td>1</td>\n",
       "      <td>96nn52n</td>\n",
       "      <td>6562</td>\n",
       "      <td>2014-12-06 10:00:00</td>\n",
       "    </tr>\n",
       "    <tr>\n",
       "      <th>4</th>\n",
       "      <td>98145908</td>\n",
       "      <td>290208520</td>\n",
       "      <td>1</td>\n",
       "      <td>NaN</td>\n",
       "      <td>13926</td>\n",
       "      <td>2014-12-16 21:00:00</td>\n",
       "    </tr>\n",
       "    <tr>\n",
       "      <th>...</th>\n",
       "      <td>...</td>\n",
       "      <td>...</td>\n",
       "      <td>...</td>\n",
       "      <td>...</td>\n",
       "      <td>...</td>\n",
       "      <td>...</td>\n",
       "    </tr>\n",
       "    <tr>\n",
       "      <th>12256901</th>\n",
       "      <td>93812622</td>\n",
       "      <td>378365755</td>\n",
       "      <td>1</td>\n",
       "      <td>95q6d6a</td>\n",
       "      <td>11</td>\n",
       "      <td>2014-12-13 21:00:00</td>\n",
       "    </tr>\n",
       "    <tr>\n",
       "      <th>12256902</th>\n",
       "      <td>93812622</td>\n",
       "      <td>177724753</td>\n",
       "      <td>1</td>\n",
       "      <td>NaN</td>\n",
       "      <td>12311</td>\n",
       "      <td>2014-12-14 21:00:00</td>\n",
       "    </tr>\n",
       "    <tr>\n",
       "      <th>12256903</th>\n",
       "      <td>93812622</td>\n",
       "      <td>234391443</td>\n",
       "      <td>1</td>\n",
       "      <td>NaN</td>\n",
       "      <td>8765</td>\n",
       "      <td>2014-12-11 16:00:00</td>\n",
       "    </tr>\n",
       "    <tr>\n",
       "      <th>12256904</th>\n",
       "      <td>93812622</td>\n",
       "      <td>26452000</td>\n",
       "      <td>1</td>\n",
       "      <td>95q6dqc</td>\n",
       "      <td>7951</td>\n",
       "      <td>2014-12-08 22:00:00</td>\n",
       "    </tr>\n",
       "    <tr>\n",
       "      <th>12256905</th>\n",
       "      <td>108404535</td>\n",
       "      <td>362699797</td>\n",
       "      <td>1</td>\n",
       "      <td>NaN</td>\n",
       "      <td>9847</td>\n",
       "      <td>2014-12-03 19:00:00</td>\n",
       "    </tr>\n",
       "  </tbody>\n",
       "</table>\n",
       "<p>12256906 rows × 6 columns</p>\n",
       "</div>"
      ],
      "text/plain": [
       "            user_id    item_id  behavior_type user_geohash  item_category  \\\n",
       "0          98047837  232431562              1          NaN           4245   \n",
       "1          97726136  383583590              1          NaN           5894   \n",
       "2          98607707   64749712              1          NaN           2883   \n",
       "3          98662432  320593836              1      96nn52n           6562   \n",
       "4          98145908  290208520              1          NaN          13926   \n",
       "...             ...        ...            ...          ...            ...   \n",
       "12256901   93812622  378365755              1      95q6d6a             11   \n",
       "12256902   93812622  177724753              1          NaN          12311   \n",
       "12256903   93812622  234391443              1          NaN           8765   \n",
       "12256904   93812622   26452000              1      95q6dqc           7951   \n",
       "12256905  108404535  362699797              1          NaN           9847   \n",
       "\n",
       "                        time  \n",
       "0        2014-12-06 02:00:00  \n",
       "1        2014-12-09 20:00:00  \n",
       "2        2014-12-18 11:00:00  \n",
       "3        2014-12-06 10:00:00  \n",
       "4        2014-12-16 21:00:00  \n",
       "...                      ...  \n",
       "12256901 2014-12-13 21:00:00  \n",
       "12256902 2014-12-14 21:00:00  \n",
       "12256903 2014-12-11 16:00:00  \n",
       "12256904 2014-12-08 22:00:00  \n",
       "12256905 2014-12-03 19:00:00  \n",
       "\n",
       "[12256906 rows x 6 columns]"
      ]
     },
     "execution_count": 3,
     "metadata": {},
     "output_type": "execute_result"
    }
   ],
   "source": [
    "%%time\n",
    "\n",
    "df = pd.read_csv(DATA_PATH / \"tianchi_mobile_recommend_train_user.csv\", header=0, parse_dates=[\"time\"])\n",
    "df"
   ]
  },
  {
   "cell_type": "code",
   "execution_count": 10,
   "id": "c6fb0db0-eb03-41d8-ba4e-3aa2d47afac8",
   "metadata": {},
   "outputs": [
    {
     "data": {
      "text/plain": [
       "user_id          12256906\n",
       "item_id          12256906\n",
       "behavior_type    12256906\n",
       "user_geohash      3922082\n",
       "item_category    12256906\n",
       "time             12256906\n",
       "dtype: int64"
      ]
     },
     "execution_count": 10,
     "metadata": {},
     "output_type": "execute_result"
    }
   ],
   "source": [
    "df.count()"
   ]
  },
  {
   "cell_type": "code",
   "execution_count": 4,
   "id": "ab058c4b",
   "metadata": {},
   "outputs": [
    {
     "data": {
      "text/plain": [
       "user_id\n",
       "4913         1742\n",
       "6118          117\n",
       "7528          214\n",
       "7591          859\n",
       "12645         268\n",
       "             ... \n",
       "142376113     322\n",
       "142412247     335\n",
       "142430177    1481\n",
       "142450275    6819\n",
       "142455899    1351\n",
       "Length: 10000, dtype: int64"
      ]
     },
     "execution_count": 4,
     "metadata": {},
     "output_type": "execute_result"
    }
   ],
   "source": [
    "lens = df.groupby(\"user_id\").size()\n",
    "lens"
   ]
  },
  {
   "cell_type": "code",
   "execution_count": 5,
   "id": "29617725",
   "metadata": {},
   "outputs": [
    {
     "data": {
      "image/png": "[encoded data removed]",
      "text/plain": [
       "<Figure size 640x480 with 1 Axes>"
      ]
     },
     "metadata": {},
     "output_type": "display_data"
    }
   ],
   "source": [
    "fig, ax = plt.subplots()\n",
    "\n",
    "sns.histplot(lens, ax=ax)\n",
    "\n",
    "fig.savefig(FIGS_PATH / \"train_len.svg\")"
   ]
  },
  {
   "cell_type": "code",
   "execution_count": 6,
   "id": "dcd8e71e",
   "metadata": {},
   "outputs": [],
   "source": [
    "last_dt = (\n",
    "    df\n",
    "    .groupby(\"user_id\")\n",
    "    [\"time\"]\n",
    "    .max()\n",
    ")"
   ]
  },
  {
   "cell_type": "code",
   "execution_count": 7,
   "id": "da5b8682",
   "metadata": {},
   "outputs": [
    {
     "data": {
      "text/html": [
       "<div>\n",
       "<style scoped>\n",
       "    .dataframe tbody tr th:only-of-type {\n",
       "        vertical-align: middle;\n",
       "    }\n",
       "\n",
       "    .dataframe tbody tr th {\n",
       "        vertical-align: top;\n",
       "    }\n",
       "\n",
       "    .dataframe thead th {\n",
       "        text-align: right;\n",
       "    }\n",
       "</style>\n",
       "<table border=\"1\" class=\"dataframe\">\n",
       "  <thead>\n",
       "    <tr style=\"text-align: right;\">\n",
       "      <th></th>\n",
       "      <th>time</th>\n",
       "      <th>weights</th>\n",
       "    </tr>\n",
       "    <tr>\n",
       "      <th>user_id</th>\n",
       "      <th></th>\n",
       "      <th></th>\n",
       "    </tr>\n",
       "  </thead>\n",
       "  <tbody>\n",
       "    <tr>\n",
       "      <th>98047837</th>\n",
       "      <td>2014-12-06 02:00:00</td>\n",
       "      <td>5.621135e-08</td>\n",
       "    </tr>\n",
       "    <tr>\n",
       "      <th>97726136</th>\n",
       "      <td>2014-12-09 20:00:00</td>\n",
       "      <td>1.479290e-07</td>\n",
       "    </tr>\n",
       "    <tr>\n",
       "      <th>98607707</th>\n",
       "      <td>2014-12-18 11:00:00</td>\n",
       "      <td>6.557377e-08</td>\n",
       "    </tr>\n",
       "    <tr>\n",
       "      <th>98662432</th>\n",
       "      <td>2014-12-06 10:00:00</td>\n",
       "      <td>2.439024e-06</td>\n",
       "    </tr>\n",
       "    <tr>\n",
       "      <th>98145908</th>\n",
       "      <td>2014-12-16 21:00:00</td>\n",
       "      <td>5.882353e-07</td>\n",
       "    </tr>\n",
       "    <tr>\n",
       "      <th>...</th>\n",
       "      <td>...</td>\n",
       "      <td>...</td>\n",
       "    </tr>\n",
       "    <tr>\n",
       "      <th>93812622</th>\n",
       "      <td>2014-12-13 21:00:00</td>\n",
       "      <td>2.941176e-06</td>\n",
       "    </tr>\n",
       "    <tr>\n",
       "      <th>93812622</th>\n",
       "      <td>2014-12-14 21:00:00</td>\n",
       "      <td>2.941176e-06</td>\n",
       "    </tr>\n",
       "    <tr>\n",
       "      <th>93812622</th>\n",
       "      <td>2014-12-11 16:00:00</td>\n",
       "      <td>2.941176e-06</td>\n",
       "    </tr>\n",
       "    <tr>\n",
       "      <th>93812622</th>\n",
       "      <td>2014-12-08 22:00:00</td>\n",
       "      <td>2.941176e-06</td>\n",
       "    </tr>\n",
       "    <tr>\n",
       "      <th>108404535</th>\n",
       "      <td>2014-12-03 19:00:00</td>\n",
       "      <td>7.716049e-08</td>\n",
       "    </tr>\n",
       "  </tbody>\n",
       "</table>\n",
       "<p>12256906 rows × 2 columns</p>\n",
       "</div>"
      ],
      "text/plain": [
       "                         time       weights\n",
       "user_id                                    \n",
       "98047837  2014-12-06 02:00:00  5.621135e-08\n",
       "97726136  2014-12-09 20:00:00  1.479290e-07\n",
       "98607707  2014-12-18 11:00:00  6.557377e-08\n",
       "98662432  2014-12-06 10:00:00  2.439024e-06\n",
       "98145908  2014-12-16 21:00:00  5.882353e-07\n",
       "...                       ...           ...\n",
       "93812622  2014-12-13 21:00:00  2.941176e-06\n",
       "93812622  2014-12-14 21:00:00  2.941176e-06\n",
       "93812622  2014-12-11 16:00:00  2.941176e-06\n",
       "93812622  2014-12-08 22:00:00  2.941176e-06\n",
       "108404535 2014-12-03 19:00:00  7.716049e-08\n",
       "\n",
       "[12256906 rows x 2 columns]"
      ]
     },
     "execution_count": 7,
     "metadata": {},
     "output_type": "execute_result"
    }
   ],
   "source": [
    "dts = (\n",
    "    df\n",
    "    [[\"user_id\", \"time\"]]\n",
    "    .set_index(\"user_id\")\n",
    "    .pipe(lambda df: df.join(df.groupby(level=0).size().rename(\"weights\")))\n",
    "    .assign(weights=lambda df: 1 / df.weights / df.index.nunique())\n",
    ")\n",
    "dts"
   ]
  },
  {
   "cell_type": "code",
   "execution_count": 9,
   "id": "49f1f4da",
   "metadata": {},
   "outputs": [
    {
     "data": {
      "image/png": "[encoded data removed]",
      "text/plain": [
       "<Figure size 640x480 with 1 Axes>"
      ]
     },
     "metadata": {},
     "output_type": "display_data"
    }
   ],
   "source": [
    "fig, ax = plt.subplots(layout=\"tight\")\n",
    "\n",
    "sns.histplot(\n",
    "    dts,\n",
    "    x=\"time\",\n",
    "    weights=\"weights\",\n",
    "    bins=100,\n",
    "    ax=ax,\n",
    "    label=\"all\",\n",
    ")\n",
    "\n",
    "sns.histplot(\n",
    "    x=last_dt,\n",
    "    weights=np.ones(len(last_dt)) / len(last_dt),\n",
    "    bins=10,\n",
    "    ax=ax,\n",
    "    label=\"last\",\n",
    ")\n",
    "\n",
    "ax.set_xlabel(\"Record datetime\")\n",
    "ax.set_ylabel(\"fraction of clients\")\n",
    "ax.legend()\n",
    "fig.autofmt_xdate()\n",
    "\n",
    "fig.savefig(FIGS_PATH / \"rec_time_hist.svg\")"
   ]
  },
  {
   "cell_type": "code",
   "execution_count": null,
   "id": "ec28ebea-8043-457c-b82d-dee871f69557",
   "metadata": {},
   "outputs": [],
   "source": []
  }
 ],
 "metadata": {
  "kernelspec": {
   "display_name": "Python 3 (ipykernel)",
   "language": "python",
   "name": "python3"
  },
  "language_info": {
   "codemirror_mode": {
    "name": "ipython",
    "version": 3
   },
   "file_extension": ".py",
   "mimetype": "text/x-python",
   "name": "python",
   "nbconvert_exporter": "python",
   "pygments_lexer": "ipython3",
   "version": "3.10.12"
  }
 },
 "nbformat": 4,
 "nbformat_minor": 5
}
